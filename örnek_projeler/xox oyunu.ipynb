{
 "cells": [
  {
   "cell_type": "code",
   "execution_count": 43,
   "metadata": {},
   "outputs": [],
   "source": [
    "game_board=[[0,0,0],[0,0,0],[0,0,0]]\n",
    "def horizantal_win(game_board):\n",
    "    for i in game_board:\n",
    "        if i[0]==i[1]==i[2] and i[0] !=0:\n",
    "            return True\n",
    "def vertical_win(game_board):\n",
    "    for i in range(len(game_board)):\n",
    "        vertical_cond=[]\n",
    "        for j in range(len(game_board)):\n",
    "            vertical_cond.append(game_board[j][i])\n",
    "        if vertical_cond[0]==vertical_cond[1]==vertical_cond[2] and vertical_cond[0] !=0:\n",
    "            return True\n",
    "def first_diagonal(game_board):\n",
    "    dia_win=[]\n",
    "    for i in range(len(game_board)):\n",
    "        dia_win.append(game_board[i][i])\n",
    "    if dia_win[0]==dia_win[1]==dia_win[2]:\n",
    "        return True "
   ]
  },
  {
   "cell_type": "code",
   "execution_count": 44,
   "metadata": {},
   "outputs": [],
   "source": [
    "game_board=[[0,1,0],[0,1,0],[0,1,0]]"
   ]
  },
  {
   "cell_type": "code",
   "execution_count": 45,
   "metadata": {},
   "outputs": [
    {
     "data": {
      "text/plain": [
       "True"
      ]
     },
     "execution_count": 45,
     "metadata": {},
     "output_type": "execute_result"
    }
   ],
   "source": [
    " vertical_win(game_board)"
   ]
  },
  {
   "cell_type": "code",
   "execution_count": null,
   "metadata": {},
   "outputs": [],
   "source": []
  }
 ],
 "metadata": {},
 "nbformat": 4,
 "nbformat_minor": 2
}
