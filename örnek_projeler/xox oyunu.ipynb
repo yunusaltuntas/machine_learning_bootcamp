{
 "cells": [
  {
   "cell_type": "markdown",
   "metadata": {},
   "source": [
    "Oyun iki kullanıcı ile oynanan ve eger yatay ,dikey veya çapraz olacak şekilde aynı senbolü yeleştiren kazanmaktadır"
   ]
  },
  {
   "cell_type": "code",
   "execution_count": 2,
   "metadata": {},
   "outputs": [],
   "source": [
    "game_board=[[0,0,0],[0,0,0],[0,0,0]]\n",
    "def horizantal_win(game_board):\n",
    "    for i in game_board:\n",
    "        if i[0]==i[1]==i[2] and i[0] !=0:\n",
    "            return True\n",
    "        else:\n",
    "            return False\n",
    "def vertical_win(game_board):\n",
    "    for i in range(len(game_board)):\n",
    "        vertical_cond=[]\n",
    "        for j in range(len(game_board)):\n",
    "            vertical_cond.append(game_board[j][i])\n",
    "        if vertical_cond[0]==vertical_cond[1]==vertical_cond[2] and vertical_cond[0] !=0:\n",
    "            return True\n",
    "        else:\n",
    "            return False\n",
    "def first_diagonal(game_board):\n",
    "    dia_win=[]\n",
    "    for i in range(len(game_board)):\n",
    "        dia_win.append(game_board[i][i])\n",
    "    if dia_win[0]==dia_win[1]==dia_win[2]:\n",
    "        return True \n",
    "    else:\n",
    "        return False\n"
   ]
  },
  {
   "cell_type": "code",
   "execution_count": 17,
   "metadata": {},
   "outputs": [],
   "source": [
    "game_board=[[0,1,0],[0,1,0],[0,1,0]]"
   ]
  },
  {
   "cell_type": "code",
   "execution_count": 18,
   "metadata": {},
   "outputs": [
    {
     "data": {
      "text/plain": [
       "True"
      ]
     },
     "execution_count": 18,
     "metadata": {},
     "output_type": "execute_result"
    }
   ],
   "source": [
    "vertical_win(game_board)"
   ]
  },
  {
   "cell_type": "code",
   "execution_count": 21,
   "metadata": {},
   "outputs": [],
   "source": [
    "first_diagonal(game_board)"
   ]
  },
  {
   "cell_type": "code",
   "execution_count": null,
   "metadata": {},
   "outputs": [],
   "source": []
  }
 ],
 "metadata": {
  "kernelspec": {
   "display_name": "Python 3",
   "language": "python",
   "name": "python3"
  },
  "language_info": {
   "codemirror_mode": {
    "name": "ipython",
    "version": 3
   },
   "file_extension": ".py",
   "mimetype": "text/x-python",
   "name": "python",
   "nbconvert_exporter": "python",
   "pygments_lexer": "ipython3",
   "version": "3.7.1"
  }
 },
 "nbformat": 4,
 "nbformat_minor": 2
}
