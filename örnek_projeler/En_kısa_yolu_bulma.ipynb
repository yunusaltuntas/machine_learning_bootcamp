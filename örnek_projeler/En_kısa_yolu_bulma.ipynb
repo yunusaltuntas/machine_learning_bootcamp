{
 "cells": [
  {
   "cell_type": "markdown",
   "metadata": {},
   "source": [
    "Belli bir ağ dan oluşan yol başlangıç ve bitiş noktalarını belirterek en kısa yolu bulma"
   ]
  },
  {
   "cell_type": "code",
   "execution_count": 54,
   "metadata": {},
   "outputs": [],
   "source": [
    "from heapq import heappop,heappush"
   ]
  },
  {
   "cell_type": "code",
   "execution_count": 55,
   "metadata": {},
   "outputs": [
    {
     "data": {
      "text/plain": [
       "{1: {2, 5},\n",
       " 2: {1, 3},\n",
       " 3: {2, 5, 6},\n",
       " 4: {5},\n",
       " 5: {1, 3, 4, 7},\n",
       " 6: {3, 7},\n",
       " 7: {5, 6}}"
      ]
     },
     "execution_count": 55,
     "metadata": {},
     "output_type": "execute_result"
    }
   ],
   "source": [
    "c={1:{5,2},2:{1,3},3:{2,5,6},4:{5},5:{1,4,3,7},6:{3,7},7:{6,5}}   #burda bir ağ yapısı oluşturuyoruz\n",
    "c"
   ]
  },
  {
   "cell_type": "code",
   "execution_count": 56,
   "metadata": {},
   "outputs": [],
   "source": [
    "edge_cost=6"
   ]
  },
  {
   "cell_type": "code",
   "execution_count": 57,
   "metadata": {},
   "outputs": [],
   "source": [
    "def travel(start,end,c):\n",
    "    visited=set()\n",
    "    h=[]\n",
    "    heappush(h,[0,start])\n",
    "    while len(h)>0:\n",
    "        cost,currrent_node=heappop(h)\n",
    "        if currrent_node in visited:\n",
    "            continue\n",
    "        else:\n",
    "            visited.add(currrent_node)\n",
    "        if currrent_node ==end:\n",
    "            return cost\n",
    "        print(cost,currrent_node)\n",
    "        for neighbour in c[currrent_node]:\n",
    "            heappush(h,[cost+edge_cost,neighbour])\n",
    "        "
   ]
  },
  {
   "cell_type": "code",
   "execution_count": 58,
   "metadata": {},
   "outputs": [
    {
     "name": "stdout",
     "output_type": "stream",
     "text": [
      "0 1\n",
      "6 2\n",
      "6 5\n",
      "12 3\n",
      "12 4\n",
      "12\n"
     ]
    }
   ],
   "source": [
    "print(travel(1,7,c))"
   ]
  },
  {
   "cell_type": "code",
   "execution_count": 59,
   "metadata": {},
   "outputs": [
    {
     "ename": "TypeError",
     "evalue": "heap argument must be a list",
     "output_type": "error",
     "traceback": [
      "\u001b[1;31m---------------------------------------------------------------------------\u001b[0m",
      "\u001b[1;31mTypeError\u001b[0m                                 Traceback (most recent call last)",
      "\u001b[1;32m<ipython-input-59-fcf974dac898>\u001b[0m in \u001b[0;36m<module>\u001b[1;34m\u001b[0m\n\u001b[1;32m----> 1\u001b[1;33m \u001b[0mcost\u001b[0m\u001b[1;33m,\u001b[0m\u001b[0mcurrrent_node\u001b[0m\u001b[1;33m=\u001b[0m\u001b[0mheappop\u001b[0m\u001b[1;33m(\u001b[0m\u001b[0mc\u001b[0m\u001b[1;33m[\u001b[0m\u001b[1;36m1\u001b[0m\u001b[1;33m]\u001b[0m\u001b[1;33m)\u001b[0m\u001b[1;33m\u001b[0m\u001b[1;33m\u001b[0m\u001b[0m\n\u001b[0m",
      "\u001b[1;31mTypeError\u001b[0m: heap argument must be a list"
     ]
    }
   ],
   "source": []
  },
  {
   "cell_type": "code",
   "execution_count": null,
   "metadata": {},
   "outputs": [],
   "source": []
  }
 ],
 "metadata": {
  "kernelspec": {
   "display_name": "Python 3",
   "language": "python",
   "name": "python3"
  },
  "language_info": {
   "codemirror_mode": {
    "name": "ipython",
    "version": 3
   },
   "file_extension": ".py",
   "mimetype": "text/x-python",
   "name": "python",
   "nbconvert_exporter": "python",
   "pygments_lexer": "ipython3",
   "version": "3.7.1"
  }
 },
 "nbformat": 4,
 "nbformat_minor": 2
}
