{
 "cells": [
  {
   "cell_type": "markdown",
   "metadata": {},
   "source": [
    "Belli bir ağ dan oluşan yol başlangıç ve bitiş noktalarını belirterek en kısa yolu bulma"
   ]
  },
  {
   "cell_type": "code",
   "execution_count": 1,
   "metadata": {},
   "outputs": [],
   "source": [
    "from heapq import heappop,heappush"
   ]
  },
  {
   "cell_type": "code",
   "execution_count": 2,
   "metadata": {},
   "outputs": [
    {
     "data": {
      "text/plain": [
       "{1: {2, 5},\n",
       " 2: {1, 3},\n",
       " 3: {2, 5, 6},\n",
       " 4: {5},\n",
       " 5: {1, 3, 4, 7},\n",
       " 6: {3, 7},\n",
       " 7: {5, 6}}"
      ]
     },
     "execution_count": 2,
     "metadata": {},
     "output_type": "execute_result"
    }
   ],
   "source": [
    "c={1:{5,2},2:{1,3},3:{2,5,6},4:{5},5:{1,4,3,7},6:{3,7},7:{6,5}}   #burda bir ağ yapısı oluşturuyoruz\n",
    "c"
   ]
  },
  {
   "cell_type": "code",
   "execution_count": 3,
   "metadata": {},
   "outputs": [],
   "source": [
    "edge_cost=6"
   ]
  },
  {
   "cell_type": "code",
   "execution_count": 4,
   "metadata": {},
   "outputs": [],
   "source": [
    "def travel(start,end,c):\n",
    "    visited=set()\n",
    "    h=[]\n",
    "    heappush(h,[0,start])\n",
    "    while len(h)>0:\n",
    "        cost,currrent_node=heappop(h)\n",
    "        if currrent_node in visited:\n",
    "            continue\n",
    "        else:\n",
    "            visited.add(currrent_node)\n",
    "        if currrent_node ==end:\n",
    "            return cost\n",
    "        print(cost,currrent_node,h)\n",
    "        \n",
    "        for neighbour in c[currrent_node]:\n",
    "            heappush(h,[cost+edge_cost,neighbour])\n",
    "    \n",
    "        "
   ]
  },
  {
   "cell_type": "code",
   "execution_count": 5,
   "metadata": {},
   "outputs": [
    {
     "name": "stdout",
     "output_type": "stream",
     "text": [
      "0 1 []\n",
      "6 2 [[6, 5]]\n",
      "6 5 [[12, 1], [12, 3]]\n",
      "12 3 [[12, 3], [12, 4], [12, 7]]\n",
      "12 4 [[12, 7], [18, 2], [18, 5], [18, 6]]\n",
      "12 7 [[18, 2], [18, 5], [18, 5], [18, 6]]\n",
      "18\n"
     ]
    }
   ],
   "source": [
    "print(travel(1,6,c))"
   ]
  },
  {
   "cell_type": "code",
   "execution_count": 20,
   "metadata": {},
   "outputs": [],
   "source": [
    "a=[3]"
   ]
  },
  {
   "cell_type": "code",
   "execution_count": 21,
   "metadata": {},
   "outputs": [
    {
     "data": {
      "text/plain": [
       "1"
      ]
     },
     "execution_count": 21,
     "metadata": {},
     "output_type": "execute_result"
    }
   ],
   "source": [
    "len(a)"
   ]
  },
  {
   "cell_type": "code",
   "execution_count": null,
   "metadata": {},
   "outputs": [],
   "source": []
  }
 ],
 "metadata": {
  "kernelspec": {
   "display_name": "Python 3",
   "language": "python",
   "name": "python3"
  },
  "language_info": {
   "codemirror_mode": {
    "name": "ipython",
    "version": 3
   },
   "file_extension": ".py",
   "mimetype": "text/x-python",
   "name": "python",
   "nbconvert_exporter": "python",
   "pygments_lexer": "ipython3",
   "version": "3.7.1"
  }
 },
 "nbformat": 4,
 "nbformat_minor": 2
}
