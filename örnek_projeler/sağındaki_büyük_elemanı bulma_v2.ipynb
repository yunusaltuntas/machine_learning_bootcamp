{
 "cells": [
  {
   "cell_type": "code",
   "execution_count": 258,
   "metadata": {},
   "outputs": [],
   "source": [
    "def big_number(string):\n",
    "    variation=[]                        #Yanındaki sayı dan farkı\n",
    "    result=[]                           #Sonuç degerimi\n",
    "    little_value=[]                     #yanında ki sayı ondan küçük olan sayıların konumu\n",
    "    variation_sum=[]                    #yanındaki sayıdan çıkarttıgımızda kalan sayıları, yan yana topladıgımız kısım\n",
    "    a=0\n",
    "    b=2\n",
    "    for i in range(len(string)-1):\n",
    "        variation.append((string[i+1])-(string[i]))\n",
    "        if  len(little_value)>1and a==b:\n",
    "            variation_sum.append(sum(variation[little_value[a-2]:little_value[a-1]]))\n",
    "            b=b+1\n",
    "        if variation[-1]>0:\n",
    "            result.insert(i,string[i+1])\n",
    "        else:\n",
    "            result.append('n')\n",
    "            little_value.append(i)\n",
    "            a=a+1\n",
    "    return variation,result,little_value,variation_sum"
   ]
  },
  {
   "cell_type": "code",
   "execution_count": 259,
   "metadata": {},
   "outputs": [
    {
     "data": {
      "text/plain": [
       "([-3, 1, 2, -1, -1, -1, -1, 7, 1, -3, -3, 22, 31, -51, 1, 0, -1, 1],\n",
       " ['n', 3, 5, 'n', 'n', 'n', 'n', 8, 9, 'n', 'n', 25, 56, 'n', 6, 'n', 'n', 6],\n",
       " [0, 3, 4, 5, 6, 9, 10, 13, 15, 16],\n",
       " [0, -1, -1, -1, 7, -3, 50, -50, 0])"
      ]
     },
     "execution_count": 259,
     "metadata": {},
     "output_type": "execute_result"
    }
   ],
   "source": [
    "big_number([5,2,3,5,4,3,2,1,8,9,6,3,25,56,5,6,6,5,6])"
   ]
  },
  {
   "cell_type": "code",
   "execution_count": 260,
   "metadata": {},
   "outputs": [],
   "source": [
    "a=len(_[2])\n",
    "b=len(_[3])"
   ]
  },
  {
   "cell_type": "code",
   "execution_count": 261,
   "metadata": {},
   "outputs": [
    {
     "data": {
      "text/plain": [
       "(10, 9)"
      ]
     },
     "execution_count": 261,
     "metadata": {},
     "output_type": "execute_result"
    }
   ],
   "source": [
    "a,b"
   ]
  },
  {
   "cell_type": "code",
   "execution_count": 52,
   "metadata": {},
   "outputs": [
    {
     "data": {
      "text/plain": [
       "[1, 2, 3, 5, 4, 3, 2, 1, 8, 9, 6, 3, 25, 56, 5, 6, 6, 5]"
      ]
     },
     "execution_count": 52,
     "metadata": {},
     "output_type": "execute_result"
    }
   ],
   "source": [
    "[1,2,3,5,4,3,2,1,8,9 ,6 ,3, 25,56,5,6,6,5]\n",
    "[2,3,5,8,8,8,8,8,9,25,25,25,56,6,6, None]"
   ]
  },
  {
   "cell_type": "code",
   "execution_count": 205,
   "metadata": {},
   "outputs": [],
   "source": [
    "a=[0]"
   ]
  },
  {
   "cell_type": "code",
   "execution_count": 206,
   "metadata": {},
   "outputs": [
    {
     "data": {
      "text/plain": [
       "0"
      ]
     },
     "execution_count": 206,
     "metadata": {},
     "output_type": "execute_result"
    }
   ],
   "source": [
    "a[-1]"
   ]
  },
  {
   "cell_type": "code",
   "execution_count": 76,
   "metadata": {},
   "outputs": [
    {
     "data": {
      "text/plain": [
       "[1, 2, 2, 2]"
      ]
     },
     "execution_count": 76,
     "metadata": {},
     "output_type": "execute_result"
    }
   ],
   "source": [
    "a"
   ]
  },
  {
   "cell_type": "code",
   "execution_count": null,
   "metadata": {},
   "outputs": [],
   "source": []
  }
 ],
 "metadata": {
  "kernelspec": {
   "display_name": "Python 3",
   "language": "python",
   "name": "python3"
  },
  "language_info": {
   "codemirror_mode": {
    "name": "ipython",
    "version": 3
   },
   "file_extension": ".py",
   "mimetype": "text/x-python",
   "name": "python",
   "nbconvert_exporter": "python",
   "pygments_lexer": "ipython3",
   "version": "3.7.1"
  }
 },
 "nbformat": 4,
 "nbformat_minor": 2
}
