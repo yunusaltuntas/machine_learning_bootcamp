{
 "cells": [
  {
   "cell_type": "code",
   "execution_count": 122,
   "metadata": {},
   "outputs": [],
   "source": [
    "def big_number(string):\n",
    "    variation=[]                        #Yanındaki sayı dan farkı\n",
    "    result=[]                           #Sonuç degerimi\n",
    "    little_value=[]                     #variation da ki sayı ondan küçük olan sayıların konumu\n",
    "    variation_sum=[]                    #yanındaki sayıdan çıkarttıgımızda kalan sayıları, yan yana topladıgımız kısım\n",
    "    a=0\n",
    "    b=2\n",
    "    for i in range(len(string)):\n",
    "        if len(string)==i+1:\n",
    "            result.insert(i,'N')        #burada son elemana none atıyoruz\n",
    "        else:\n",
    "            variation.append((string[i+1])-(string[i]))            #burada son eleman deil ise yanındakinden çıkarıp variationa atıyoruz\n",
    "        if  len(little_value)>1:\n",
    "            if a==b:\n",
    "                variation_sum.append(sum(variation[little_value[a-2]:little_value[a-1]])) #burada eger yanındaki deger küçük ise\n",
    "                b=b+1                                                                     #o degerleri topluyoruz\n",
    "            elif i==(len(string)):\n",
    "                variation_sum.append(string[i])\n",
    "        if variation[-1]>0 and len(string)!=i+1:      #burada son elemand deil ve yanındaki büyük ise yanındakini atıyoruz\n",
    "            result.insert(i,string[i+1])\n",
    "            #little_value.append('n')\n",
    "            #variation_sum.insert(i,'n')\n",
    "        elif len(string)!=i+1:                        #burada son eleman deilse ve yanındaki eleman buyuk deilse n atıyoruz\n",
    "            result.append('n')\n",
    "            little_value.append(i)\n",
    "            a=a+1\n",
    "    return variation,result,little_value,variation_sum"
   ]
  },
  {
   "cell_type": "code",
   "execution_count": 121,
   "metadata": {},
   "outputs": [
    {
     "data": {
      "text/plain": [
       "([-3, 1, 2, -1, -1, -1, -1, 7, 1, -3, -3, 22, 31, -51, 1, 0, -1, 1],\n",
       " ['n',\n",
       "  3,\n",
       "  5,\n",
       "  'n',\n",
       "  'n',\n",
       "  'n',\n",
       "  'n',\n",
       "  8,\n",
       "  9,\n",
       "  'n',\n",
       "  'n',\n",
       "  25,\n",
       "  56,\n",
       "  'n',\n",
       "  6,\n",
       "  'n',\n",
       "  'n',\n",
       "  6,\n",
       "  'N'],\n",
       " [0, 3, 4, 5, 6, 9, 10, 13, 15, 16],\n",
       " [0, -1, -1, -1, 7, -3, 50, -50, 0])"
      ]
     },
     "execution_count": 121,
     "metadata": {},
     "output_type": "execute_result"
    }
   ],
   "source": [
    "big_number([5,2,3,5,4,3,2,1,8,9,6,3,25,56,5,6,6,5,6])"
   ]
  },
  {
   "cell_type": "code",
   "execution_count": 86,
   "metadata": {},
   "outputs": [],
   "source": []
  },
  {
   "cell_type": "code",
   "execution_count": 87,
   "metadata": {},
   "outputs": [
    {
     "data": {
      "text/plain": [
       "(10, 9)"
      ]
     },
     "execution_count": 87,
     "metadata": {},
     "output_type": "execute_result"
    }
   ],
   "source": []
  },
  {
   "cell_type": "code",
   "execution_count": 52,
   "metadata": {},
   "outputs": [
    {
     "data": {
      "text/plain": [
       "[1, 2, 3, 5, 4, 3, 2, 1, 8, 9, 6, 3, 25, 56, 5, 6, 6, 5]"
      ]
     },
     "execution_count": 52,
     "metadata": {},
     "output_type": "execute_result"
    }
   ],
   "source": []
  },
  {
   "cell_type": "code",
   "execution_count": 113,
   "metadata": {},
   "outputs": [],
   "source": []
  },
  {
   "cell_type": "code",
   "execution_count": 119,
   "metadata": {},
   "outputs": [
    {
     "data": {
      "text/plain": [
       "[1, 3, 4, 5, 6, 8]"
      ]
     },
     "execution_count": 119,
     "metadata": {},
     "output_type": "execute_result"
    }
   ],
   "source": []
  },
  {
   "cell_type": "code",
   "execution_count": 112,
   "metadata": {},
   "outputs": [],
   "source": [
    "a=[1,4]"
   ]
  },
  {
   "cell_type": "code",
   "execution_count": 53,
   "metadata": {},
   "outputs": [
    {
     "ename": "SyntaxError",
     "evalue": "invalid syntax (<ipython-input-53-73af42083c32>, line 3)",
     "output_type": "error",
     "traceback": [
      "\u001b[1;36m  File \u001b[1;32m\"<ipython-input-53-73af42083c32>\"\u001b[1;36m, line \u001b[1;32m3\u001b[0m\n\u001b[1;33m    lst[a[i for i in range(len(a))]] = [99, 98]\u001b[0m\n\u001b[1;37m              ^\u001b[0m\n\u001b[1;31mSyntaxError\u001b[0m\u001b[1;31m:\u001b[0m invalid syntax\n"
     ]
    }
   ],
   "source": [
    "lst=[0,0,0,0,0]\n",
    "\n",
    "lst[] = [99, 98]\n",
    "lst"
   ]
  },
  {
   "cell_type": "code",
   "execution_count": 61,
   "metadata": {},
   "outputs": [
    {
     "ename": "SyntaxError",
     "evalue": "invalid syntax (<ipython-input-61-9a982fcd8c62>, line 1)",
     "output_type": "error",
     "traceback": [
      "\u001b[1;36m  File \u001b[1;32m\"<ipython-input-61-9a982fcd8c62>\"\u001b[1;36m, line \u001b[1;32m1\u001b[0m\n\u001b[1;33m    5 for i in range(2)\u001b[0m\n\u001b[1;37m        ^\u001b[0m\n\u001b[1;31mSyntaxError\u001b[0m\u001b[1;31m:\u001b[0m invalid syntax\n"
     ]
    }
   ],
   "source": [
    "5 for i in range(2)"
   ]
  },
  {
   "cell_type": "code",
   "execution_count": 62,
   "metadata": {},
   "outputs": [
    {
     "name": "stdout",
     "output_type": "stream",
     "text": [
      "[0, 1]\n"
     ]
    }
   ],
   "source": [
    "üretilen_listem = [i for i in range(2)]\n",
    "print(üretilen_listem)"
   ]
  },
  {
   "cell_type": "code",
   "execution_count": 50,
   "metadata": {},
   "outputs": [
    {
     "name": "stdout",
     "output_type": "stream",
     "text": [
      "12\n"
     ]
    }
   ],
   "source": [
    "txt = \"Hello, wel  come to my world.\"\n",
    "\n",
    "x = txt.index(\"come\")\n",
    "\n",
    "print(x)"
   ]
  },
  {
   "cell_type": "code",
   "execution_count": null,
   "metadata": {},
   "outputs": [],
   "source": []
  },
  {
   "cell_type": "code",
   "execution_count": null,
   "metadata": {},
   "outputs": [],
   "source": []
  }
 ],
 "metadata": {
  "kernelspec": {
   "display_name": "Python 3",
   "language": "python",
   "name": "python3"
  },
  "language_info": {
   "codemirror_mode": {
    "name": "ipython",
    "version": 3
   },
   "file_extension": ".py",
   "mimetype": "text/x-python",
   "name": "python",
   "nbconvert_exporter": "python",
   "pygments_lexer": "ipython3",
   "version": "3.7.1"
  }
 },
 "nbformat": 4,
 "nbformat_minor": 2
}
