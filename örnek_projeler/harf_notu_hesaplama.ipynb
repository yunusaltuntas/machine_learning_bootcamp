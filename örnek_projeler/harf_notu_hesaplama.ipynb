{
 "cells": [
  {
   "cell_type": "markdown",
   "metadata": {},
   "source": [
    "Kullanıcıdan girdi olarak alınan rakam notun harf karşılığını ekrana yazdıran bir program yazınız.\n",
    "\n",
    "90-100 arası A \n",
    "80-89 arası B\n",
    "70-79 arası C\n",
    "60-69 arası D\n",
    "50-59 arası E\n",
    "0-49 arası F"
   ]
  },
  {
   "cell_type": "code",
   "execution_count": 5,
   "metadata": {},
   "outputs": [
    {
     "name": "stdout",
     "output_type": "stream",
     "text": [
      "vize notu:300\n",
      "final notu:40\n",
      "Vize notu yanlış girdiniz\n",
      "vize notu:20\n",
      "Harf notu: F\n"
     ]
    }
   ],
   "source": [
    "first_exam_mark=int(input('vize notu:'))\n",
    "second_exam_mark=int(input('final notu:'))\n",
    "while first_exam_mark<0 or first_exam_mark>100:\n",
    "    print('Vize notu yanlış girdiniz')\n",
    "    first_exam_mark=int(input('vize notu:'))\n",
    "while second_exam_mark<0 or second_exam_mark>100:\n",
    "    print('Final notu yanlış girdiniz')\n",
    "    second_exam_mark=int(input('final notu'))\n",
    "mean=first_exam_mark*0.3+second_exam_mark*0.7\n",
    "if mean>89:\n",
    "    print('Harf notu: A')\n",
    "elif mean>79:\n",
    "    print('Harf notu: B')\n",
    "elif mean>69:\n",
    "    print('Harf notu: C')\n",
    "elif mean>59:\n",
    "    print('Harf notu: D')\n",
    "elif mean>49:\n",
    "    print('Harf notu: E')\n",
    "else:\n",
    "    print('Harf notu: F')"
   ]
  },
  {
   "cell_type": "code",
   "execution_count": null,
   "metadata": {},
   "outputs": [],
   "source": []
  },
  {
   "cell_type": "code",
   "execution_count": null,
   "metadata": {},
   "outputs": [],
   "source": []
  }
 ],
 "metadata": {
  "kernelspec": {
   "display_name": "Python 3",
   "language": "python",
   "name": "python3"
  },
  "language_info": {
   "codemirror_mode": {
    "name": "ipython",
    "version": 3
   },
   "file_extension": ".py",
   "mimetype": "text/x-python",
   "name": "python",
   "nbconvert_exporter": "python",
   "pygments_lexer": "ipython3",
   "version": "3.7.1"
  }
 },
 "nbformat": 4,
 "nbformat_minor": 2
}
