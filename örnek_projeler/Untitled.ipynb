{
 "cells": [
  {
   "cell_type": "code",
   "execution_count": 1,
   "metadata": {},
   "outputs": [],
   "source": []
  },
  {
   "cell_type": "code",
   "execution_count": 1,
   "metadata": {},
   "outputs": [
    {
     "name": "stdout",
     "output_type": "stream",
     "text": [
      "True 0\n",
      "True 1\n",
      "True 2\n",
      "True 3\n",
      "True 4\n",
      "True 5\n",
      "True 6\n",
      "True 7\n",
      "True 8\n",
      "True 9\n",
      "True 10\n",
      "True 11\n",
      "True 12\n",
      "True 13\n",
      "True 14\n",
      "True 15\n",
      "True 16\n",
      "True 17\n",
      "True 18\n",
      "True 19\n",
      "True 20\n",
      "True 21\n",
      "True 22\n",
      "True 23\n",
      "True 24\n",
      "True 25\n",
      "True 26\n",
      "True 27\n",
      "True 28\n",
      "True 29\n"
     ]
    }
   ],
   "source": [
    "import requests\n",
    "from bs4 import BeautifulSoup as bs\n",
    "import pandas as pd\n",
    "url='http://sukrubezen.com/kodluyoruz/work.php'\n",
    "data=[]\n",
    "for i in range(30):\n",
    "    r=requests.get(url,headers={\"User-Agent\": \"Mozilla/5.0 (X11; Linux x86_64) AppleWebKit/537.36 (KHTML, like Gecko) Chrome/78.0.3904.87 Safari/537.36\"})\n",
    "    soup=str(bs(r.text,'html.parser'))\n",
    "    data.append(soup)\n",
    "new_data=[]\n",
    "for i in range(len(data)):\n",
    "    deneme=str(data[i])\n",
    "    res = [a for b in deneme.split() for a in (b, ' ')][:-1]\n",
    "    print((' ' in res),i)\n",
    "    for j in range(res.count(' ')):\n",
    "        res.remove(' ')\n",
    "    new_data.append(res)"
   ]
  },
  {
   "cell_type": "code",
   "execution_count": 2,
   "metadata": {},
   "outputs": [],
   "source": [
    "new_data; # veri burada"
   ]
  },
  {
   "cell_type": "code",
   "execution_count": 3,
   "metadata": {},
   "outputs": [],
   "source": [
    "new_data1=[]"
   ]
  },
  {
   "cell_type": "code",
   "execution_count": 4,
   "metadata": {},
   "outputs": [],
   "source": [
    "for i in range(len(new_data)):\n",
    "    new_data1.append(list(map(int,new_data[i])))"
   ]
  },
  {
   "cell_type": "code",
   "execution_count": 5,
   "metadata": {},
   "outputs": [],
   "source": [
    "import numpy as np"
   ]
  },
  {
   "cell_type": "code",
   "execution_count": 6,
   "metadata": {},
   "outputs": [
    {
     "data": {
      "text/plain": [
       "(30, 129)"
      ]
     },
     "execution_count": 6,
     "metadata": {},
     "output_type": "execute_result"
    }
   ],
   "source": [
    "np.shape(new_data1)"
   ]
  },
  {
   "cell_type": "code",
   "execution_count": 66,
   "metadata": {},
   "outputs": [],
   "source": [
    "df=pd.DataFrame(new_data1,columns=np.arange(1,130))"
   ]
  },
  {
   "cell_type": "code",
   "execution_count": 67,
   "metadata": {},
   "outputs": [
    {
     "data": {
      "text/html": [
       "<div>\n",
       "<style scoped>\n",
       "    .dataframe tbody tr th:only-of-type {\n",
       "        vertical-align: middle;\n",
       "    }\n",
       "\n",
       "    .dataframe tbody tr th {\n",
       "        vertical-align: top;\n",
       "    }\n",
       "\n",
       "    .dataframe thead th {\n",
       "        text-align: right;\n",
       "    }\n",
       "</style>\n",
       "<table border=\"1\" class=\"dataframe\">\n",
       "  <thead>\n",
       "    <tr style=\"text-align: right;\">\n",
       "      <th></th>\n",
       "      <th>1</th>\n",
       "      <th>2</th>\n",
       "      <th>3</th>\n",
       "      <th>4</th>\n",
       "      <th>5</th>\n",
       "      <th>6</th>\n",
       "      <th>7</th>\n",
       "      <th>8</th>\n",
       "      <th>9</th>\n",
       "      <th>10</th>\n",
       "      <th>...</th>\n",
       "      <th>120</th>\n",
       "      <th>121</th>\n",
       "      <th>122</th>\n",
       "      <th>123</th>\n",
       "      <th>124</th>\n",
       "      <th>125</th>\n",
       "      <th>126</th>\n",
       "      <th>127</th>\n",
       "      <th>128</th>\n",
       "      <th>129</th>\n",
       "    </tr>\n",
       "  </thead>\n",
       "  <tbody>\n",
       "    <tr>\n",
       "      <th>0</th>\n",
       "      <td>2213704</td>\n",
       "      <td>8587689</td>\n",
       "      <td>9479318</td>\n",
       "      <td>4594370</td>\n",
       "      <td>957403</td>\n",
       "      <td>7123332</td>\n",
       "      <td>1544596</td>\n",
       "      <td>1545588</td>\n",
       "      <td>3408178</td>\n",
       "      <td>6815080</td>\n",
       "      <td>...</td>\n",
       "      <td>5157474</td>\n",
       "      <td>7715197</td>\n",
       "      <td>1912001</td>\n",
       "      <td>8560909</td>\n",
       "      <td>5687414</td>\n",
       "      <td>1302354</td>\n",
       "      <td>4181824</td>\n",
       "      <td>7048676</td>\n",
       "      <td>8250978</td>\n",
       "      <td>345512511</td>\n",
       "    </tr>\n",
       "    <tr>\n",
       "      <th>1</th>\n",
       "      <td>2540435</td>\n",
       "      <td>422665</td>\n",
       "      <td>2964293</td>\n",
       "      <td>4475552</td>\n",
       "      <td>5063462</td>\n",
       "      <td>5441841</td>\n",
       "      <td>9939520</td>\n",
       "      <td>7489223</td>\n",
       "      <td>9787667</td>\n",
       "      <td>7640837</td>\n",
       "      <td>...</td>\n",
       "      <td>8652833</td>\n",
       "      <td>2125744</td>\n",
       "      <td>3753751</td>\n",
       "      <td>5042791</td>\n",
       "      <td>3825222</td>\n",
       "      <td>5030533</td>\n",
       "      <td>3083446</td>\n",
       "      <td>3278162</td>\n",
       "      <td>2357203</td>\n",
       "      <td>317686273</td>\n",
       "    </tr>\n",
       "    <tr>\n",
       "      <th>2</th>\n",
       "      <td>4098593</td>\n",
       "      <td>6208961</td>\n",
       "      <td>5808067</td>\n",
       "      <td>916479</td>\n",
       "      <td>9244576</td>\n",
       "      <td>7754931</td>\n",
       "      <td>9317577</td>\n",
       "      <td>9493780</td>\n",
       "      <td>984104</td>\n",
       "      <td>3399217</td>\n",
       "      <td>...</td>\n",
       "      <td>7742288</td>\n",
       "      <td>6136664</td>\n",
       "      <td>7874112</td>\n",
       "      <td>7078663</td>\n",
       "      <td>2711387</td>\n",
       "      <td>5041528</td>\n",
       "      <td>1848935</td>\n",
       "      <td>9333488</td>\n",
       "      <td>8194489</td>\n",
       "      <td>349979467</td>\n",
       "    </tr>\n",
       "    <tr>\n",
       "      <th>3</th>\n",
       "      <td>6405205</td>\n",
       "      <td>9240922</td>\n",
       "      <td>5720145</td>\n",
       "      <td>2579168</td>\n",
       "      <td>2495498</td>\n",
       "      <td>1894479</td>\n",
       "      <td>8524940</td>\n",
       "      <td>285427</td>\n",
       "      <td>1019117</td>\n",
       "      <td>2233531</td>\n",
       "      <td>...</td>\n",
       "      <td>5836189</td>\n",
       "      <td>6256824</td>\n",
       "      <td>7517113</td>\n",
       "      <td>6700138</td>\n",
       "      <td>4668569</td>\n",
       "      <td>2981457</td>\n",
       "      <td>5722175</td>\n",
       "      <td>5107875</td>\n",
       "      <td>3613661</td>\n",
       "      <td>349985954</td>\n",
       "    </tr>\n",
       "    <tr>\n",
       "      <th>4</th>\n",
       "      <td>6138747</td>\n",
       "      <td>2150749</td>\n",
       "      <td>1405404</td>\n",
       "      <td>3177373</td>\n",
       "      <td>7712847</td>\n",
       "      <td>8388749</td>\n",
       "      <td>8569892</td>\n",
       "      <td>1407771</td>\n",
       "      <td>2115754</td>\n",
       "      <td>8702002</td>\n",
       "      <td>...</td>\n",
       "      <td>2495519</td>\n",
       "      <td>4502530</td>\n",
       "      <td>6226336</td>\n",
       "      <td>3879310</td>\n",
       "      <td>8576947</td>\n",
       "      <td>7710652</td>\n",
       "      <td>6960314</td>\n",
       "      <td>2363773</td>\n",
       "      <td>7710713</td>\n",
       "      <td>361360901</td>\n",
       "    </tr>\n",
       "  </tbody>\n",
       "</table>\n",
       "<p>5 rows × 129 columns</p>\n",
       "</div>"
      ],
      "text/plain": [
       "       1        2        3        4        5        6        7        8    \\\n",
       "0  2213704  8587689  9479318  4594370   957403  7123332  1544596  1545588   \n",
       "1  2540435   422665  2964293  4475552  5063462  5441841  9939520  7489223   \n",
       "2  4098593  6208961  5808067   916479  9244576  7754931  9317577  9493780   \n",
       "3  6405205  9240922  5720145  2579168  2495498  1894479  8524940   285427   \n",
       "4  6138747  2150749  1405404  3177373  7712847  8388749  8569892  1407771   \n",
       "\n",
       "       9        10   ...      120      121      122      123      124  \\\n",
       "0  3408178  6815080  ...  5157474  7715197  1912001  8560909  5687414   \n",
       "1  9787667  7640837  ...  8652833  2125744  3753751  5042791  3825222   \n",
       "2   984104  3399217  ...  7742288  6136664  7874112  7078663  2711387   \n",
       "3  1019117  2233531  ...  5836189  6256824  7517113  6700138  4668569   \n",
       "4  2115754  8702002  ...  2495519  4502530  6226336  3879310  8576947   \n",
       "\n",
       "       125      126      127      128        129  \n",
       "0  1302354  4181824  7048676  8250978  345512511  \n",
       "1  5030533  3083446  3278162  2357203  317686273  \n",
       "2  5041528  1848935  9333488  8194489  349979467  \n",
       "3  2981457  5722175  5107875  3613661  349985954  \n",
       "4  7710652  6960314  2363773  7710713  361360901  \n",
       "\n",
       "[5 rows x 129 columns]"
      ]
     },
     "execution_count": 67,
     "metadata": {},
     "output_type": "execute_result"
    }
   ],
   "source": [
    "df.head()"
   ]
  },
  {
   "cell_type": "code",
   "execution_count": 68,
   "metadata": {},
   "outputs": [
    {
     "data": {
      "text/html": [
       "<div>\n",
       "<style scoped>\n",
       "    .dataframe tbody tr th:only-of-type {\n",
       "        vertical-align: middle;\n",
       "    }\n",
       "\n",
       "    .dataframe tbody tr th {\n",
       "        vertical-align: top;\n",
       "    }\n",
       "\n",
       "    .dataframe thead th {\n",
       "        text-align: right;\n",
       "    }\n",
       "</style>\n",
       "<table border=\"1\" class=\"dataframe\">\n",
       "  <thead>\n",
       "    <tr style=\"text-align: right;\">\n",
       "      <th></th>\n",
       "      <th>1</th>\n",
       "      <th>2</th>\n",
       "      <th>3</th>\n",
       "      <th>4</th>\n",
       "      <th>5</th>\n",
       "      <th>6</th>\n",
       "      <th>7</th>\n",
       "      <th>8</th>\n",
       "      <th>9</th>\n",
       "      <th>10</th>\n",
       "      <th>...</th>\n",
       "      <th>120</th>\n",
       "      <th>121</th>\n",
       "      <th>122</th>\n",
       "      <th>123</th>\n",
       "      <th>124</th>\n",
       "      <th>125</th>\n",
       "      <th>126</th>\n",
       "      <th>127</th>\n",
       "      <th>128</th>\n",
       "      <th>129</th>\n",
       "    </tr>\n",
       "  </thead>\n",
       "  <tbody>\n",
       "    <tr>\n",
       "      <th>1</th>\n",
       "      <td>1.000000</td>\n",
       "      <td>0.065133</td>\n",
       "      <td>-0.017400</td>\n",
       "      <td>0.030410</td>\n",
       "      <td>0.043561</td>\n",
       "      <td>-0.082023</td>\n",
       "      <td>0.161463</td>\n",
       "      <td>0.016655</td>\n",
       "      <td>0.035320</td>\n",
       "      <td>0.236264</td>\n",
       "      <td>...</td>\n",
       "      <td>-0.286422</td>\n",
       "      <td>-0.172112</td>\n",
       "      <td>0.002308</td>\n",
       "      <td>-0.256066</td>\n",
       "      <td>0.034250</td>\n",
       "      <td>-0.057830</td>\n",
       "      <td>-0.107280</td>\n",
       "      <td>-0.122194</td>\n",
       "      <td>0.229990</td>\n",
       "      <td>-0.064520</td>\n",
       "    </tr>\n",
       "    <tr>\n",
       "      <th>2</th>\n",
       "      <td>0.065133</td>\n",
       "      <td>1.000000</td>\n",
       "      <td>0.304968</td>\n",
       "      <td>0.203581</td>\n",
       "      <td>-0.018948</td>\n",
       "      <td>-0.249857</td>\n",
       "      <td>-0.157209</td>\n",
       "      <td>-0.031864</td>\n",
       "      <td>0.000825</td>\n",
       "      <td>-0.211155</td>\n",
       "      <td>...</td>\n",
       "      <td>-0.071179</td>\n",
       "      <td>-0.056357</td>\n",
       "      <td>0.186512</td>\n",
       "      <td>0.285832</td>\n",
       "      <td>0.054459</td>\n",
       "      <td>-0.195201</td>\n",
       "      <td>0.071661</td>\n",
       "      <td>0.155425</td>\n",
       "      <td>0.018038</td>\n",
       "      <td>0.216558</td>\n",
       "    </tr>\n",
       "    <tr>\n",
       "      <th>3</th>\n",
       "      <td>-0.017400</td>\n",
       "      <td>0.304968</td>\n",
       "      <td>1.000000</td>\n",
       "      <td>-0.365530</td>\n",
       "      <td>0.108966</td>\n",
       "      <td>-0.133159</td>\n",
       "      <td>0.040694</td>\n",
       "      <td>-0.015393</td>\n",
       "      <td>-0.268593</td>\n",
       "      <td>-0.106843</td>\n",
       "      <td>...</td>\n",
       "      <td>0.187374</td>\n",
       "      <td>0.075621</td>\n",
       "      <td>0.105275</td>\n",
       "      <td>-0.002068</td>\n",
       "      <td>-0.300183</td>\n",
       "      <td>-0.099138</td>\n",
       "      <td>-0.056343</td>\n",
       "      <td>0.433278</td>\n",
       "      <td>0.013274</td>\n",
       "      <td>0.315709</td>\n",
       "    </tr>\n",
       "    <tr>\n",
       "      <th>4</th>\n",
       "      <td>0.030410</td>\n",
       "      <td>0.203581</td>\n",
       "      <td>-0.365530</td>\n",
       "      <td>1.000000</td>\n",
       "      <td>0.048189</td>\n",
       "      <td>-0.087838</td>\n",
       "      <td>-0.088183</td>\n",
       "      <td>-0.068394</td>\n",
       "      <td>0.331982</td>\n",
       "      <td>0.154846</td>\n",
       "      <td>...</td>\n",
       "      <td>-0.096821</td>\n",
       "      <td>-0.153684</td>\n",
       "      <td>-0.080886</td>\n",
       "      <td>0.013249</td>\n",
       "      <td>0.282759</td>\n",
       "      <td>0.183281</td>\n",
       "      <td>0.246464</td>\n",
       "      <td>-0.096722</td>\n",
       "      <td>0.110031</td>\n",
       "      <td>0.203857</td>\n",
       "    </tr>\n",
       "    <tr>\n",
       "      <th>5</th>\n",
       "      <td>0.043561</td>\n",
       "      <td>-0.018948</td>\n",
       "      <td>0.108966</td>\n",
       "      <td>0.048189</td>\n",
       "      <td>1.000000</td>\n",
       "      <td>0.239949</td>\n",
       "      <td>0.158768</td>\n",
       "      <td>-0.367619</td>\n",
       "      <td>-0.010262</td>\n",
       "      <td>-0.085389</td>\n",
       "      <td>...</td>\n",
       "      <td>-0.035936</td>\n",
       "      <td>-0.038587</td>\n",
       "      <td>0.123384</td>\n",
       "      <td>-0.006800</td>\n",
       "      <td>0.092387</td>\n",
       "      <td>0.068269</td>\n",
       "      <td>-0.090651</td>\n",
       "      <td>-0.082946</td>\n",
       "      <td>-0.006451</td>\n",
       "      <td>-0.037253</td>\n",
       "    </tr>\n",
       "    <tr>\n",
       "      <th>...</th>\n",
       "      <td>...</td>\n",
       "      <td>...</td>\n",
       "      <td>...</td>\n",
       "      <td>...</td>\n",
       "      <td>...</td>\n",
       "      <td>...</td>\n",
       "      <td>...</td>\n",
       "      <td>...</td>\n",
       "      <td>...</td>\n",
       "      <td>...</td>\n",
       "      <td>...</td>\n",
       "      <td>...</td>\n",
       "      <td>...</td>\n",
       "      <td>...</td>\n",
       "      <td>...</td>\n",
       "      <td>...</td>\n",
       "      <td>...</td>\n",
       "      <td>...</td>\n",
       "      <td>...</td>\n",
       "      <td>...</td>\n",
       "      <td>...</td>\n",
       "    </tr>\n",
       "    <tr>\n",
       "      <th>125</th>\n",
       "      <td>-0.057830</td>\n",
       "      <td>-0.195201</td>\n",
       "      <td>-0.099138</td>\n",
       "      <td>0.183281</td>\n",
       "      <td>0.068269</td>\n",
       "      <td>0.105062</td>\n",
       "      <td>-0.173069</td>\n",
       "      <td>0.104858</td>\n",
       "      <td>0.063497</td>\n",
       "      <td>0.031484</td>\n",
       "      <td>...</td>\n",
       "      <td>0.138004</td>\n",
       "      <td>0.176930</td>\n",
       "      <td>-0.068522</td>\n",
       "      <td>-0.078058</td>\n",
       "      <td>-0.016148</td>\n",
       "      <td>1.000000</td>\n",
       "      <td>0.184885</td>\n",
       "      <td>0.111323</td>\n",
       "      <td>0.205608</td>\n",
       "      <td>0.363323</td>\n",
       "    </tr>\n",
       "    <tr>\n",
       "      <th>126</th>\n",
       "      <td>-0.107280</td>\n",
       "      <td>0.071661</td>\n",
       "      <td>-0.056343</td>\n",
       "      <td>0.246464</td>\n",
       "      <td>-0.090651</td>\n",
       "      <td>-0.083145</td>\n",
       "      <td>-0.074576</td>\n",
       "      <td>-0.111308</td>\n",
       "      <td>0.042914</td>\n",
       "      <td>-0.315277</td>\n",
       "      <td>...</td>\n",
       "      <td>-0.163296</td>\n",
       "      <td>0.328679</td>\n",
       "      <td>0.214935</td>\n",
       "      <td>-0.140670</td>\n",
       "      <td>-0.295609</td>\n",
       "      <td>0.184885</td>\n",
       "      <td>1.000000</td>\n",
       "      <td>-0.250186</td>\n",
       "      <td>0.034136</td>\n",
       "      <td>0.223442</td>\n",
       "    </tr>\n",
       "    <tr>\n",
       "      <th>127</th>\n",
       "      <td>-0.122194</td>\n",
       "      <td>0.155425</td>\n",
       "      <td>0.433278</td>\n",
       "      <td>-0.096722</td>\n",
       "      <td>-0.082946</td>\n",
       "      <td>-0.115336</td>\n",
       "      <td>-0.028229</td>\n",
       "      <td>-0.016911</td>\n",
       "      <td>-0.210103</td>\n",
       "      <td>-0.016389</td>\n",
       "      <td>...</td>\n",
       "      <td>-0.003274</td>\n",
       "      <td>-0.122257</td>\n",
       "      <td>-0.297619</td>\n",
       "      <td>-0.129363</td>\n",
       "      <td>-0.164507</td>\n",
       "      <td>0.111323</td>\n",
       "      <td>-0.250186</td>\n",
       "      <td>1.000000</td>\n",
       "      <td>0.335510</td>\n",
       "      <td>0.348769</td>\n",
       "    </tr>\n",
       "    <tr>\n",
       "      <th>128</th>\n",
       "      <td>0.229990</td>\n",
       "      <td>0.018038</td>\n",
       "      <td>0.013274</td>\n",
       "      <td>0.110031</td>\n",
       "      <td>-0.006451</td>\n",
       "      <td>-0.010939</td>\n",
       "      <td>0.057166</td>\n",
       "      <td>0.020373</td>\n",
       "      <td>0.073629</td>\n",
       "      <td>0.208852</td>\n",
       "      <td>...</td>\n",
       "      <td>-0.469536</td>\n",
       "      <td>0.275718</td>\n",
       "      <td>-0.133931</td>\n",
       "      <td>-0.200608</td>\n",
       "      <td>-0.256320</td>\n",
       "      <td>0.205608</td>\n",
       "      <td>0.034136</td>\n",
       "      <td>0.335510</td>\n",
       "      <td>1.000000</td>\n",
       "      <td>0.362332</td>\n",
       "    </tr>\n",
       "    <tr>\n",
       "      <th>129</th>\n",
       "      <td>-0.064520</td>\n",
       "      <td>0.216558</td>\n",
       "      <td>0.315709</td>\n",
       "      <td>0.203857</td>\n",
       "      <td>-0.037253</td>\n",
       "      <td>-0.347998</td>\n",
       "      <td>0.117679</td>\n",
       "      <td>-0.070868</td>\n",
       "      <td>0.178997</td>\n",
       "      <td>-0.156412</td>\n",
       "      <td>...</td>\n",
       "      <td>-0.139156</td>\n",
       "      <td>0.192969</td>\n",
       "      <td>0.111629</td>\n",
       "      <td>0.047243</td>\n",
       "      <td>-0.047961</td>\n",
       "      <td>0.363323</td>\n",
       "      <td>0.223442</td>\n",
       "      <td>0.348769</td>\n",
       "      <td>0.362332</td>\n",
       "      <td>1.000000</td>\n",
       "    </tr>\n",
       "  </tbody>\n",
       "</table>\n",
       "<p>129 rows × 129 columns</p>\n",
       "</div>"
      ],
      "text/plain": [
       "          1         2         3         4         5         6         7    \\\n",
       "1    1.000000  0.065133 -0.017400  0.030410  0.043561 -0.082023  0.161463   \n",
       "2    0.065133  1.000000  0.304968  0.203581 -0.018948 -0.249857 -0.157209   \n",
       "3   -0.017400  0.304968  1.000000 -0.365530  0.108966 -0.133159  0.040694   \n",
       "4    0.030410  0.203581 -0.365530  1.000000  0.048189 -0.087838 -0.088183   \n",
       "5    0.043561 -0.018948  0.108966  0.048189  1.000000  0.239949  0.158768   \n",
       "..        ...       ...       ...       ...       ...       ...       ...   \n",
       "125 -0.057830 -0.195201 -0.099138  0.183281  0.068269  0.105062 -0.173069   \n",
       "126 -0.107280  0.071661 -0.056343  0.246464 -0.090651 -0.083145 -0.074576   \n",
       "127 -0.122194  0.155425  0.433278 -0.096722 -0.082946 -0.115336 -0.028229   \n",
       "128  0.229990  0.018038  0.013274  0.110031 -0.006451 -0.010939  0.057166   \n",
       "129 -0.064520  0.216558  0.315709  0.203857 -0.037253 -0.347998  0.117679   \n",
       "\n",
       "          8         9         10   ...       120       121       122  \\\n",
       "1    0.016655  0.035320  0.236264  ... -0.286422 -0.172112  0.002308   \n",
       "2   -0.031864  0.000825 -0.211155  ... -0.071179 -0.056357  0.186512   \n",
       "3   -0.015393 -0.268593 -0.106843  ...  0.187374  0.075621  0.105275   \n",
       "4   -0.068394  0.331982  0.154846  ... -0.096821 -0.153684 -0.080886   \n",
       "5   -0.367619 -0.010262 -0.085389  ... -0.035936 -0.038587  0.123384   \n",
       "..        ...       ...       ...  ...       ...       ...       ...   \n",
       "125  0.104858  0.063497  0.031484  ...  0.138004  0.176930 -0.068522   \n",
       "126 -0.111308  0.042914 -0.315277  ... -0.163296  0.328679  0.214935   \n",
       "127 -0.016911 -0.210103 -0.016389  ... -0.003274 -0.122257 -0.297619   \n",
       "128  0.020373  0.073629  0.208852  ... -0.469536  0.275718 -0.133931   \n",
       "129 -0.070868  0.178997 -0.156412  ... -0.139156  0.192969  0.111629   \n",
       "\n",
       "          123       124       125       126       127       128       129  \n",
       "1   -0.256066  0.034250 -0.057830 -0.107280 -0.122194  0.229990 -0.064520  \n",
       "2    0.285832  0.054459 -0.195201  0.071661  0.155425  0.018038  0.216558  \n",
       "3   -0.002068 -0.300183 -0.099138 -0.056343  0.433278  0.013274  0.315709  \n",
       "4    0.013249  0.282759  0.183281  0.246464 -0.096722  0.110031  0.203857  \n",
       "5   -0.006800  0.092387  0.068269 -0.090651 -0.082946 -0.006451 -0.037253  \n",
       "..        ...       ...       ...       ...       ...       ...       ...  \n",
       "125 -0.078058 -0.016148  1.000000  0.184885  0.111323  0.205608  0.363323  \n",
       "126 -0.140670 -0.295609  0.184885  1.000000 -0.250186  0.034136  0.223442  \n",
       "127 -0.129363 -0.164507  0.111323 -0.250186  1.000000  0.335510  0.348769  \n",
       "128 -0.200608 -0.256320  0.205608  0.034136  0.335510  1.000000  0.362332  \n",
       "129  0.047243 -0.047961  0.363323  0.223442  0.348769  0.362332  1.000000  \n",
       "\n",
       "[129 rows x 129 columns]"
      ]
     },
     "execution_count": 68,
     "metadata": {},
     "output_type": "execute_result"
    }
   ],
   "source": [
    "df.corr(method ='pearson').head(1130)"
   ]
  },
  {
   "cell_type": "code",
   "execution_count": 181,
   "metadata": {},
   "outputs": [],
   "source": [
    "veri=df.iloc[0][0:128].values"
   ]
  },
  {
   "cell_type": "code",
   "execution_count": 183,
   "metadata": {},
   "outputs": [
    {
     "data": {
      "text/plain": [
       "array([2213704, 8587689, 9479318, 4594370,  957403, 7123332, 1544596,\n",
       "       1545588, 3408178, 6815080, 6737989, 4321286, 2954781, 1621623,\n",
       "       3226430, 5990215, 9885858, 1229816, 8389874, 6853102, 8288019,\n",
       "       5592850, 2596025, 5306248, 3509703, 3840781,  192481, 6613813,\n",
       "       9788547, 6552793, 7954099, 2002250, 5140482, 7433416, 6595621,\n",
       "       6096886, 4556747, 8139217, 7641475, 7963926, 4954296, 4379463,\n",
       "       2285211, 7908078, 6000087, 5510642, 3898292, 5885945, 6739458,\n",
       "       2288166, 2739046, 5027476, 7880016, 5334071,  333724, 1389719,\n",
       "       9173853,  525205, 8002532, 8962399, 7076999, 5956630,  964649,\n",
       "       2217481, 3390046, 7559270, 8313367, 7945793, 5698486, 5954841,\n",
       "       5909718,  652782,  334304, 8193930, 8559860, 6333392, 3704571,\n",
       "       2458152, 2219336,  444029, 4745318, 4957382, 5470506, 2625334,\n",
       "        291453, 5803230, 4014054, 9464306, 6327435, 2016586, 8426705,\n",
       "       3404434, 7972217, 9390354, 5620916, 1362262, 6949624, 3934282,\n",
       "       9307055, 2648109, 9888124, 5216773, 3299892,  222428, 3410703,\n",
       "       1859752, 6554820, 7114274, 4316904, 8773156, 7557304, 9061223,\n",
       "       3730538, 3027809, 1686557, 4020991, 8830039, 5699611, 3485296,\n",
       "       5157474, 7715197, 1912001, 8560909, 5687414, 1302354, 4181824,\n",
       "       7048676, 8250978], dtype=int64)"
      ]
     },
     "execution_count": 183,
     "metadata": {},
     "output_type": "execute_result"
    }
   ],
   "source": [
    "veri"
   ]
  },
  {
   "cell_type": "code",
   "execution_count": 72,
   "metadata": {},
   "outputs": [
    {
     "data": {
      "text/plain": [
       "33"
      ]
     },
     "execution_count": 72,
     "metadata": {},
     "output_type": "execute_result"
    }
   ],
   "source": [
    "from itertools import combinations\n",
    "conbine=list(combinations())"
   ]
  },
  {
   "cell_type": "code",
   "execution_count": 157,
   "metadata": {},
   "outputs": [],
   "source": [
    "total=0\n",
    "sayi=0\n",
    "for i,j in enumerate(list(df.corr(method ='pearson').iloc[-1]>0.097)):\n",
    "    if j and i!=128:\n",
    "        total+=df[i][0]\n",
    "        sayi+=1\n",
    "        "
   ]
  },
  {
   "cell_type": "code",
   "execution_count": 158,
   "metadata": {},
   "outputs": [
    {
     "data": {
      "text/plain": [
       "348170180"
      ]
     },
     "execution_count": 158,
     "metadata": {},
     "output_type": "execute_result"
    }
   ],
   "source": [
    "df"
   ]
  },
  {
   "cell_type": "code",
   "execution_count": 159,
   "metadata": {},
   "outputs": [
    {
     "data": {
      "text/plain": [
       "345512511"
      ]
     },
     "execution_count": 159,
     "metadata": {},
     "output_type": "execute_result"
    }
   ],
   "source": [
    "df[129][0]"
   ]
  },
  {
   "cell_type": "code",
   "execution_count": 160,
   "metadata": {},
   "outputs": [
    {
     "data": {
      "text/plain": [
       "64"
      ]
     },
     "execution_count": 160,
     "metadata": {},
     "output_type": "execute_result"
    }
   ],
   "source": [
    "sayi"
   ]
  },
  {
   "cell_type": "code",
   "execution_count": 107,
   "metadata": {},
   "outputs": [],
   "source": [
    "res = [i for j in deneme.split() for i in (j, ' ')][:-1] "
   ]
  },
  {
   "cell_type": "code",
   "execution_count": 51,
   "metadata": {},
   "outputs": [
    {
     "data": {
      "text/plain": [
       "'6843710'"
      ]
     },
     "execution_count": 51,
     "metadata": {},
     "output_type": "execute_result"
    }
   ],
   "source": [
    "res[0]"
   ]
  },
  {
   "cell_type": "code",
   "execution_count": 168,
   "metadata": {},
   "outputs": [
    {
     "data": {
      "text/plain": [
       "str"
      ]
     },
     "execution_count": 168,
     "metadata": {},
     "output_type": "execute_result"
    }
   ],
   "source": [
    "type(new_data[0][128])"
   ]
  },
  {
   "cell_type": "code",
   "execution_count": 69,
   "metadata": {},
   "outputs": [
    {
     "ename": "AttributeError",
     "evalue": "module 'pandas' has no attribute 'Dataframe'",
     "output_type": "error",
     "traceback": [
      "\u001b[1;31m---------------------------------------------------------------------------\u001b[0m",
      "\u001b[1;31mAttributeError\u001b[0m                            Traceback (most recent call last)",
      "\u001b[1;32m<ipython-input-69-f2ff1d49df64>\u001b[0m in \u001b[0;36m<module>\u001b[1;34m\u001b[0m\n\u001b[1;32m----> 1\u001b[1;33m \u001b[0mdata_new1\u001b[0m\u001b[1;33m=\u001b[0m\u001b[0mpd\u001b[0m\u001b[1;33m.\u001b[0m\u001b[0mDataframe\u001b[0m\u001b[1;33m(\u001b[0m\u001b[0mnew_data\u001b[0m\u001b[1;33m,\u001b[0m\u001b[0msep\u001b[0m\u001b[1;33m=\u001b[0m\u001b[1;34m' '\u001b[0m\u001b[1;33m)\u001b[0m\u001b[1;33m\u001b[0m\u001b[1;33m\u001b[0m\u001b[0m\n\u001b[0m",
      "\u001b[1;32mD:\\Program Files\\anaconda navigator\\lib\\site-packages\\pandas\\__init__.py\u001b[0m in \u001b[0;36m__getattr__\u001b[1;34m(name)\u001b[0m\n\u001b[0;32m    212\u001b[0m \u001b[1;33m\u001b[0m\u001b[0m\n\u001b[0;32m    213\u001b[0m             \u001b[1;32mreturn\u001b[0m \u001b[0mPanel\u001b[0m\u001b[1;33m\u001b[0m\u001b[1;33m\u001b[0m\u001b[0m\n\u001b[1;32m--> 214\u001b[1;33m         \u001b[1;32mraise\u001b[0m \u001b[0mAttributeError\u001b[0m\u001b[1;33m(\u001b[0m\u001b[1;34m\"module 'pandas' has no attribute '{}'\"\u001b[0m\u001b[1;33m.\u001b[0m\u001b[0mformat\u001b[0m\u001b[1;33m(\u001b[0m\u001b[0mname\u001b[0m\u001b[1;33m)\u001b[0m\u001b[1;33m)\u001b[0m\u001b[1;33m\u001b[0m\u001b[1;33m\u001b[0m\u001b[0m\n\u001b[0m\u001b[0;32m    215\u001b[0m \u001b[1;33m\u001b[0m\u001b[0m\n\u001b[0;32m    216\u001b[0m \u001b[1;33m\u001b[0m\u001b[0m\n",
      "\u001b[1;31mAttributeError\u001b[0m: module 'pandas' has no attribute 'Dataframe'"
     ]
    }
   ],
   "source": [
    "data_new1=pd.Dataframe(new_data,sep=' ')"
   ]
  },
  {
   "cell_type": "code",
   "execution_count": 67,
   "metadata": {},
   "outputs": [],
   "source": [
    "import pandas as pd"
   ]
  },
  {
   "cell_type": "code",
   "execution_count": 161,
   "metadata": {},
   "outputs": [],
   "source": [
    "import math"
   ]
  },
  {
   "cell_type": "code",
   "execution_count": 165,
   "metadata": {},
   "outputs": [],
   "source": [
    "deneme_problem=[1,2,3,4,6,8,9,3,4,6,4,8,19]"
   ]
  },
  {
   "cell_type": "code",
   "execution_count": 166,
   "metadata": {},
   "outputs": [
    {
     "data": {
      "text/plain": [
       "77"
      ]
     },
     "execution_count": 166,
     "metadata": {},
     "output_type": "execute_result"
    }
   ],
   "source": [
    "sum(deneme_problem)"
   ]
  },
  {
   "cell_type": "code",
   "execution_count": null,
   "metadata": {},
   "outputs": [],
   "source": []
  }
 ],
 "metadata": {
  "kernelspec": {
   "display_name": "Python 3",
   "language": "python",
   "name": "python3"
  },
  "language_info": {
   "codemirror_mode": {
    "name": "ipython",
    "version": 3
   },
   "file_extension": ".py",
   "mimetype": "text/x-python",
   "name": "python",
   "nbconvert_exporter": "python",
   "pygments_lexer": "ipython3",
   "version": "3.7.1"
  }
 },
 "nbformat": 4,
 "nbformat_minor": 2
}
