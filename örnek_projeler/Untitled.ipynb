{
 "cells": [
  {
   "cell_type": "code",
   "execution_count": 1,
   "metadata": {},
   "outputs": [],
   "source": [
    "import requests\n",
    "from bs4 import BeautifulSoup as bs\n",
    "import pandas as pd\n",
    "url='http://sukrubezen.com/kodluyoruz/work.php'\n",
    "data=[]\n",
    "for i in range(500):\n",
    "    r=requests.get(url,headers={\"User-Agent\": \"Mozilla/5.0 (X11; Linux x86_64) AppleWebKit/537.36 (KHTML, like Gecko) Chrome/78.0.3904.87 Safari/537.36\"})\n",
    "    soup=str(bs(r.text,'html.parser'))\n",
    "    data.append(soup)\n",
    "new_data=[]\n",
    "for i in range(len(data)):\n",
    "    deneme=str(data[i])\n",
    "    res = [a for b in deneme.split() for a in (b, ' ')][:-1]\n",
    "    for j in range(res.count(' ')):\n",
    "        res.remove(' ')\n",
    "    new_data.append(res)\n",
    "new_data=pd.DataFrame(new_data)\n",
    "X=new_data.columns\n",
    "X=new_data[X[0:-1]]\n",
    "y=new_data.columns\n",
    "y=new_data[y[-1]]\n",
    "from sklearn.linear_model import LinearRegression\n",
    "model=LinearRegression(fit_intercept=False,normalize=True)\n",
    "reg=model.fit(X,y)\n",
    "boelean_value=[]\n",
    "for i in list(reg.coef_>0.9):\n",
    "    if i:\n",
    "        boelean_value.append(1)\n",
    "    else:\n",
    "        boelean_value.append(0)\n",
    "sayi=0\n",
    "str_harf=''\n",
    "carpan=128\n",
    "for i,j in enumerate(boelean_value):\n",
    "    sayi=((carpan)*j)+sayi\n",
    "    #print(sayi)\n",
    "    carpan//=2\n",
    "    if (i+1)%8==0:\n",
    "        str_harf+=chr(sayi)\n",
    "        sayi=0\n",
    "        carpan=128\n",
    "print(str_harf)"
   ]
  }
 ],
 "metadata": {
  "kernelspec": {
   "display_name": "Python 3",
   "language": "python",
   "name": "python3"
  },
  "language_info": {
   "codemirror_mode": {
    "name": "ipython",
    "version": 3
   },
   "file_extension": ".py",
   "mimetype": "text/x-python",
   "name": "python",
   "nbconvert_exporter": "python",
   "pygments_lexer": "ipython3",
   "version": "3.7.1"
  }
 },
 "nbformat": 4,
 "nbformat_minor": 2
}
