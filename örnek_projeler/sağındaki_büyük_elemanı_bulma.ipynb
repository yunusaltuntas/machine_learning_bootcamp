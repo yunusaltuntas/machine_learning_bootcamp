{
 "cells": [
  {
   "cell_type": "markdown",
   "metadata": {},
   "source": [
    "verilen dizideki elemanların sagındaki ondan büyük elemanı bulan algoritma"
   ]
  },
  {
   "cell_type": "code",
   "execution_count": 101,
   "metadata": {},
   "outputs": [],
   "source": [
    "def big_number(string):\n",
    "    result=[]\n",
    "    counter=1\n",
    "    for i in string:\n",
    "        if(counter==len(string)):                #burada kontrol edilecek son eleman mı ona baktım\n",
    "            result.append(i)\n",
    "            break\n",
    "        for j in range(counter,len(string)):\n",
    "            if i<string[j]:                      #burada sağındaki elemanın büyük olup olmadıgına baktım\n",
    "                result.append(string[j])\n",
    "                break\n",
    "            elif (j+1)==len(string):             #burada son eleman olup olmadıgına bakıyorum(büyük eleman bulamaması durumu)\n",
    "                result.append(i)\n",
    "                break\n",
    "        counter+=1    \n",
    "    return result"
   ]
  },
  {
   "cell_type": "code",
   "execution_count": 102,
   "metadata": {},
   "outputs": [
    {
     "data": {
      "text/plain": [
       "[5,\n",
       " 9,\n",
       " 35,\n",
       " 6,\n",
       " 7,\n",
       " 7,\n",
       " 9,\n",
       " 35,\n",
       " 35,\n",
       " 8,\n",
       " 35,\n",
       " 35,\n",
       " 35,\n",
       " 35,\n",
       " 6,\n",
       " 8,\n",
       " 9,\n",
       " 5,\n",
       " 7,\n",
       " 9,\n",
       " 9,\n",
       " 9,\n",
       " 6,\n",
       " 7,\n",
       " 9,\n",
       " 9,\n",
       " 9,\n",
       " 9,\n",
       " 8,\n",
       " 9,\n",
       " 9,\n",
       " 9,\n",
       " 3,\n",
       " 4,\n",
       " 4]"
      ]
     },
     "execution_count": 102,
     "metadata": {},
     "output_type": "execute_result"
    }
   ],
   "source": [
    "a=big_number([1,5,9,2,6,3,7,9,9,4,8,6,2,35,5,6,8,3,5,7,5,9,1,6,7,5,3,9,4,8,2,9,0,3,4])\n",
    "a"
   ]
  },
  {
   "cell_type": "code",
   "execution_count": null,
   "metadata": {},
   "outputs": [],
   "source": []
  },
  {
   "cell_type": "code",
   "execution_count": null,
   "metadata": {},
   "outputs": [],
   "source": []
  },
  {
   "cell_type": "code",
   "execution_count": null,
   "metadata": {},
   "outputs": [],
   "source": []
  }
 ],
 "metadata": {
  "kernelspec": {
   "display_name": "Python 3",
   "language": "python",
   "name": "python3"
  },
  "language_info": {
   "codemirror_mode": {
    "name": "ipython",
    "version": 3
   },
   "file_extension": ".py",
   "mimetype": "text/x-python",
   "name": "python",
   "nbconvert_exporter": "python",
   "pygments_lexer": "ipython3",
   "version": "3.7.1"
  }
 },
 "nbformat": 4,
 "nbformat_minor": 2
}
