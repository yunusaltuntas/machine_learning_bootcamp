{
 "cells": [
  {
   "cell_type": "code",
   "execution_count": 1,
   "metadata": {},
   "outputs": [],
   "source": [
    "import requests\n",
    "from selenium import webdriver\n",
    "from selenium.webdriver.support import expected_conditions as EC\n",
    "from bs4 import BeautifulSoup as bs\n",
    "url='http://sukrubezen.com/kodluyoruz/test39314660.html'\n",
    "from selenium.webdriver.support.ui import WebDriverWait\n",
    "r=requests.get(url, headers={\"User-Agent\": \"Mozilla/5.0 (X11; Linux x86_64) AppleWebKit/537.36 (KHTML, like Gecko) Chrome/78.0.3904.87 Safari/537.36\"})\n",
    "elms=bs(r.text,'html.parser')\n",
    "elms = elms.select(\"a\")\n",
    "while True:\n",
    "    for i in elms:\n",
    "        a=i.attrs['href']\n",
    "        print(a)\n",
    "    try:\n",
    "        url='http://sukrubezen.com/kodluyoruz/%s'    \n",
    "        r=requests.get(url%a, headers={\"User-Agent\": \"Mozilla/5.0 (X11; Linux x86_64) AppleWebKit/537.36 (KHTML, like Gecko) Chrome/78.0.3904.87 Safari/537.36\"})\n",
    "        elms=bs(r.text,'html.parser')\n",
    "        elms = elms.select(\"a\")\n",
    "    except:\n",
    "        continue\n",
    "    if len(elms)==0:\n",
    "            break\n",
    "url='http://sukrubezen.com/kodluyoruz/%s'\n",
    "driver_path=\"C:/Program Files (x86)/Google/chromedriver.exe\"\n",
    "browser=webdriver.Chrome(executable_path=driver_path)\n",
    "browser.get(url%a)\n",
    "wait=WebDriverWait(browser,10)\n",
    "h3=wait.until(EC.visibility_of_element_located((By.CSS_SELECTOR,'.history-list-item')))\n",
    "\n"
   ]
  },
  {
   "cell_type": "code",
   "execution_count": null,
   "metadata": {},
   "outputs": [],
   "source": []
  },
  {
   "cell_type": "code",
   "execution_count": null,
   "metadata": {
    "scrolled": true
   },
   "outputs": [],
   "source": []
  },
  {
   "cell_type": "code",
   "execution_count": null,
   "metadata": {},
   "outputs": [],
   "source": [
    "\n"
   ]
  },
  {
   "cell_type": "code",
   "execution_count": null,
   "metadata": {
    "scrolled": true
   },
   "outputs": [],
   "source": []
  },
  {
   "cell_type": "code",
   "execution_count": null,
   "metadata": {},
   "outputs": [],
   "source": []
  },
  {
   "cell_type": "code",
   "execution_count": 64,
   "metadata": {},
   "outputs": [],
   "source": []
  },
  {
   "cell_type": "code",
   "execution_count": null,
   "metadata": {},
   "outputs": [],
   "source": []
  },
  {
   "cell_type": "code",
   "execution_count": null,
   "metadata": {},
   "outputs": [],
   "source": []
  },
  {
   "cell_type": "code",
   "execution_count": null,
   "metadata": {},
   "outputs": [],
   "source": []
  }
 ],
 "metadata": {
  "kernelspec": {
   "display_name": "Python 3",
   "language": "python",
   "name": "python3"
  },
  "language_info": {
   "codemirror_mode": {
    "name": "ipython",
    "version": 3
   },
   "file_extension": ".py",
   "mimetype": "text/x-python",
   "name": "python",
   "nbconvert_exporter": "python",
   "pygments_lexer": "ipython3",
   "version": "3.7.1"
  }
 },
 "nbformat": 4,
 "nbformat_minor": 2
}
