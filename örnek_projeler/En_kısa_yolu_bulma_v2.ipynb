{
 "cells": [
  {
   "cell_type": "markdown",
   "metadata": {},
   "source": [
    "Bu örnekte daha karmaşık bir ag yapısı kullanarak en kısa yolu bulan uygulamayı yazacağız"
   ]
  },
  {
   "cell_type": "code",
   "execution_count": 2,
   "metadata": {},
   "outputs": [],
   "source": [
    "way={1:[2,3,4,5,8],2:[6,1],3:[1,7,8],4:[1,9],5:[1,10,12],6:[2,7,11],7:[3,6,11,12],8:[1,3],9:[4,13,14],10:[5,12],\n",
    "         11:[6,7,16,18],12:[5,7,10,17,18],13:[9,18,20],14:[9,19],15:[19,21],16:[11,18],17:[12,22],\n",
    "        18:[11,12,13,16],19:[14,15,22],20:[13,21],21:[15,20],22:[17,19]}"
   ]
  },
  {
   "cell_type": "code",
   "execution_count": 3,
   "metadata": {},
   "outputs": [],
   "source": [
    "distance=5"
   ]
  },
  {
   "cell_type": "code",
   "execution_count": 1,
   "metadata": {},
   "outputs": [
    {
     "name": "stdout",
     "output_type": "stream",
     "text": [
      "[[0, 0], 0]\n",
      "yeni sayı atandı [1, 2]\n",
      "[[0, 0], 0]\n",
      "yeni sayı atandı [1, 2, 6]\n",
      "[[0, 0], 0]\n",
      "içinde var\n",
      "yeni sayı atandı [1, 2, 6, 7]\n",
      "[[0, 0], 0]\n",
      "yeni sayı atandı [1, 2, 6, 7, 3]\n",
      "[[0, 0], 0]\n",
      "içinde var\n",
      "içinde var\n",
      "yeni sayı atandı [1, 2, 6, 7, 3, 8]\n",
      "[[0, 0], 0]\n",
      "içinde var\n",
      "içinde var\n",
      "çıkmaz sokak\n",
      "[[0, 0], 0]\n",
      "içinde var\n",
      "içinde var\n",
      "çıkmaz sokak\n",
      "[[0, 0], 0]\n",
      "içinde var\n",
      "yeni sayı atandı [1, 2, 6, 7, 11]\n",
      "[[0, 0], 0]\n",
      "içinde var\n",
      "içinde var\n",
      "yeni sayı atandı [1, 2, 6, 7, 11, 16]\n",
      "[[0, 0], 0]\n",
      "içinde var\n",
      "yeni sayı atandı [1, 2, 6, 7, 11, 16, 18]\n",
      "[[0, 0], 0]\n",
      "içinde var\n",
      "yeni sayı atandı [1, 2, 6, 7, 11, 16, 18, 12]\n",
      "[[0, 0], 0]\n",
      "yeni sayı atandı [1, 2, 6, 7, 11, 16, 18, 12, 5]\n",
      "[[0, 0], 0]\n",
      "içinde var\n",
      "yeni sayı atandı [1, 2, 6, 7, 11, 16, 18, 12, 5, 10]\n",
      "[[0, 0], 0]\n",
      "içinde var\n",
      "içinde var\n",
      "çıkmaz sokak\n",
      "[[0, 0], 0]\n",
      "içinde var\n",
      "içinde var\n",
      "çıkmaz sokak\n",
      "[[0, 0], 0]\n",
      "içinde var\n",
      "yeni sayı atandı [1, 2, 6, 7, 11, 16, 18, 12, 10]\n",
      "[[0, 0], 0]\n",
      "çıkmaz yol silme\n",
      "[[0, 0], 0]\n",
      "içinde var\n",
      "yeni sayı atandı [1, 2, 6, 7, 11, 16, 18, 12, 17]\n",
      "[[0, 0], 0]\n",
      "eger eleman 22 ise ve ilk defe atıyorsa\n"
     ]
    },
    {
     "ename": "AttributeError",
     "evalue": "'int' object has no attribute 'append'",
     "output_type": "error",
     "traceback": [
      "\u001b[1;31m---------------------------------------------------------------------------\u001b[0m",
      "\u001b[1;31mAttributeError\u001b[0m                            Traceback (most recent call last)",
      "\u001b[1;32m<ipython-input-1-0a7b72ea1751>\u001b[0m in \u001b[0;36m<module>\u001b[1;34m\u001b[0m\n\u001b[0;32m     30\u001b[0m             \u001b[1;32mfor\u001b[0m \u001b[0mi\u001b[0m \u001b[1;32min\u001b[0m \u001b[0mdirections\u001b[0m\u001b[1;33m:\u001b[0m\u001b[1;33m\u001b[0m\u001b[1;33m\u001b[0m\u001b[0m\n\u001b[0;32m     31\u001b[0m                 \u001b[0mshortest_way\u001b[0m\u001b[1;33m.\u001b[0m\u001b[0mappend\u001b[0m\u001b[1;33m(\u001b[0m\u001b[0mi\u001b[0m\u001b[1;33m)\u001b[0m\u001b[1;33m\u001b[0m\u001b[1;33m\u001b[0m\u001b[0m\n\u001b[1;32m---> 32\u001b[1;33m             \u001b[0mshortest_way\u001b[0m\u001b[1;33m[\u001b[0m\u001b[1;36m1\u001b[0m\u001b[1;33m]\u001b[0m\u001b[1;33m.\u001b[0m\u001b[0mappend\u001b[0m\u001b[1;33m(\u001b[0m\u001b[0mlen\u001b[0m\u001b[1;33m(\u001b[0m\u001b[0mdirections\u001b[0m\u001b[1;33m)\u001b[0m\u001b[1;33m)\u001b[0m\u001b[1;33m\u001b[0m\u001b[1;33m\u001b[0m\u001b[0m\n\u001b[0m\u001b[0;32m     33\u001b[0m             \u001b[0mprint\u001b[0m\u001b[1;33m(\u001b[0m\u001b[0mshortest_way\u001b[0m\u001b[1;33m)\u001b[0m\u001b[1;33m\u001b[0m\u001b[1;33m\u001b[0m\u001b[0m\n\u001b[0;32m     34\u001b[0m             \u001b[1;32mdel\u001b[0m \u001b[0mdirections\u001b[0m\u001b[1;33m[\u001b[0m\u001b[1;33m-\u001b[0m\u001b[1;36m1\u001b[0m\u001b[1;33m]\u001b[0m\u001b[1;33m\u001b[0m\u001b[1;33m\u001b[0m\u001b[0m\n",
      "\u001b[1;31mAttributeError\u001b[0m: 'int' object has no attribute 'append'"
     ]
    }
   ],
   "source": [
    "import time\n",
    "way={1:[2,3,4,5,8],2:[6,1],3:[1,7,8],4:[1,9],5:[1,10,12],6:[2,7,11],7:[3,6,11,12],8:[1,3],9:[4,13,14],10:[5,12],\n",
    "         11:[6,7,16,18],12:[5,7,10,17,18],13:[9,18,20],14:[9,19],15:[19,21],16:[11,18],17:[12,22],\n",
    "        18:[11,12,13,16],19:[14,15,22],20:[13,21],21:[15,20],22:[17,19]}\n",
    "distance=5\n",
    "directions=[]\n",
    "shortest_way=[]\n",
    "start=1\n",
    "end=22\n",
    "directions.append(1)\n",
    "shortest_way=[[0,0],0]\n",
    "blind=[0]\n",
    "while True:\n",
    "    print(shortest_way)\n",
    "    if directions[-1] in blind:\n",
    "        print('çıkmaz yol silme')\n",
    "        way[directions[-2]].remove(directions[-1])\n",
    "        del directions[-1]\n",
    "    elif 0==len(way[directions[-1]]) and 1==len(directions):\n",
    "        print('döngü sonlandı')\n",
    "        break\n",
    "    elif 0==len(way[directions[-1]]) and 1!=len(directions):\n",
    "        print('yukarı çıkma 1')\n",
    "        way[directions[-2]].remove(directions[-1])\n",
    "        del directions[-1]\n",
    "    elif 0!=len(way[directions[-1]]) and 22 in way[directions[-1]]:\n",
    "        if shortest_way[-1]==0:\n",
    "            print('eger eleman 22 ise ve ilk defe atıyorsa')\n",
    "            directions.append(22)\n",
    "            for i in directions:\n",
    "                shortest_way.append(i)\n",
    "            shortest_way[1].append(len(directions))\n",
    "            print(shortest_way)\n",
    "            del directions[-1]\n",
    "            way[directions[-1]].remove(22)\n",
    "            print('silme işlemi gerçekleşti',shortest_way)\n",
    "        elif shortest_way[-1]>=len(directions):\n",
    "            print('eleman 22 ve daha kısa yol')\n",
    "            directions.append(22)\n",
    "            shortest_way=[directions,len(directions)]\n",
    "            print(shortest_way)\n",
    "            del directions[-1]\n",
    "            way[directions[-1]].remove(22)\n",
    "        elif shortest_way[-1]<len(directions):\n",
    "            print('eleman 22 ve daha uzun yol')\n",
    "            way[directions[-1]].remove(22)\n",
    "    elif 0!=len(way[directions[-1]])and not(22 in way[directions[-1]]):\n",
    "        for i in way[directions[-1]]:\n",
    "            if i in directions:\n",
    "                print('içinde var')\n",
    "                time.sleep(0.11)\n",
    "                if i ==way[directions[-1]][-1]:\n",
    "                    print('çıkmaz sokak')\n",
    "                    blind.append(directions[-1])\n",
    "                    del way[directions[-1]]\n",
    "                    way[directions[-2]].remove(directions[-1])\n",
    "                    del directions[-1]\n",
    "                    \n",
    "                    break\n",
    "                continue\n",
    "            elif not(i in directions):\n",
    "                directions.append(i)\n",
    "                print('yeni sayı atandı',directions)\n",
    "                break\n",
    "        if shortest_way[-1]==0:\n",
    "            continue\n",
    "        elif shortest_way[-1]>len(directions):\n",
    "            continue\n",
    "        elif shortest_way[-1]<=len(directions):\n",
    "            way[directions[-2]].remove(directions[-1])   #bir adım yukarı gittigi yer çıkmaz yol ve\n",
    "            del directions[-1]  "
   ]
  },
  {
   "cell_type": "code",
   "execution_count": 15,
   "metadata": {},
   "outputs": [],
   "source": []
  },
  {
   "cell_type": "code",
   "execution_count": 1,
   "metadata": {},
   "outputs": [],
   "source": []
  },
  {
   "cell_type": "code",
   "execution_count": 2,
   "metadata": {},
   "outputs": [
    {
     "data": {
      "text/plain": [
       "0"
      ]
     },
     "execution_count": 2,
     "metadata": {},
     "output_type": "execute_result"
    }
   ],
   "source": []
  },
  {
   "cell_type": "code",
   "execution_count": 50,
   "metadata": {},
   "outputs": [],
   "source": []
  },
  {
   "cell_type": "code",
   "execution_count": 53,
   "metadata": {},
   "outputs": [],
   "source": []
  },
  {
   "cell_type": "code",
   "execution_count": 54,
   "metadata": {},
   "outputs": [
    {
     "data": {
      "text/plain": [
       "{'Hello': [24], 'at': 23, 'test': 43, 'this': 43}"
      ]
     },
     "execution_count": 54,
     "metadata": {},
     "output_type": "execute_result"
    }
   ],
   "source": []
  },
  {
   "cell_type": "code",
   "execution_count": null,
   "metadata": {},
   "outputs": [],
   "source": []
  },
  {
   "cell_type": "code",
   "execution_count": null,
   "metadata": {},
   "outputs": [],
   "source": []
  }
 ],
 "metadata": {
  "kernelspec": {
   "display_name": "Python 3",
   "language": "python",
   "name": "python3"
  },
  "language_info": {
   "codemirror_mode": {
    "name": "ipython",
    "version": 3
   },
   "file_extension": ".py",
   "mimetype": "text/x-python",
   "name": "python",
   "nbconvert_exporter": "python",
   "pygments_lexer": "ipython3",
   "version": "3.7.1"
  }
 },
 "nbformat": 4,
 "nbformat_minor": 2
}
