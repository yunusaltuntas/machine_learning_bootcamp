{
 "cells": [
  {
   "cell_type": "code",
   "execution_count": 1,
   "metadata": {},
   "outputs": [],
   "source": [
    "import requests"
   ]
  },
  {
   "cell_type": "code",
   "execution_count": 2,
   "metadata": {},
   "outputs": [],
   "source": [
    "import pandas as pd"
   ]
  },
  {
   "cell_type": "code",
   "execution_count": 7,
   "metadata": {},
   "outputs": [],
   "source": [
    "df=pd.read_csv('muhammet_data.csv',sep=';')  #noktalı virgül olan yerlerden datayı düzenledim"
   ]
  },
  {
   "cell_type": "code",
   "execution_count": 8,
   "metadata": {},
   "outputs": [
    {
     "data": {
      "text/html": [
       "<div>\n",
       "<style scoped>\n",
       "    .dataframe tbody tr th:only-of-type {\n",
       "        vertical-align: middle;\n",
       "    }\n",
       "\n",
       "    .dataframe tbody tr th {\n",
       "        vertical-align: top;\n",
       "    }\n",
       "\n",
       "    .dataframe thead th {\n",
       "        text-align: right;\n",
       "    }\n",
       "</style>\n",
       "<table border=\"1\" class=\"dataframe\">\n",
       "  <thead>\n",
       "    <tr style=\"text-align: right;\">\n",
       "      <th></th>\n",
       "      <th>subjno</th>\n",
       "      <th>isim</th>\n",
       "      <th>grup</th>\n",
       "      <th>tanı</th>\n",
       "      <th>yas</th>\n",
       "      <th>cins</th>\n",
       "      <th>gelsekil</th>\n",
       "      <th>meddur</th>\n",
       "      <th>isdurum</th>\n",
       "      <th>egitim</th>\n",
       "      <th>...</th>\n",
       "      <th>novseek</th>\n",
       "      <th>harmavo</th>\n",
       "      <th>rewdep</th>\n",
       "      <th>persist</th>\n",
       "      <th>selfdirect</th>\n",
       "      <th>cooper</th>\n",
       "      <th>selftrans</th>\n",
       "      <th>des_kategor</th>\n",
       "      <th>disq_kategor</th>\n",
       "      <th>filter_$</th>\n",
       "    </tr>\n",
       "  </thead>\n",
       "  <tbody>\n",
       "    <tr>\n",
       "      <th>0</th>\n",
       "      <td>77</td>\n",
       "      <td>kamer sarı</td>\n",
       "      <td>1</td>\n",
       "      <td>1</td>\n",
       "      <td>46</td>\n",
       "      <td>1</td>\n",
       "      <td>1</td>\n",
       "      <td>3</td>\n",
       "      <td>1</td>\n",
       "      <td>17</td>\n",
       "      <td>...</td>\n",
       "      <td>11</td>\n",
       "      <td>20</td>\n",
       "      <td>10</td>\n",
       "      <td>4</td>\n",
       "      <td>35</td>\n",
       "      <td>30</td>\n",
       "      <td>9</td>\n",
       "      <td>1</td>\n",
       "      <td>1</td>\n",
       "      <td>1</td>\n",
       "    </tr>\n",
       "    <tr>\n",
       "      <th>1</th>\n",
       "      <td>75</td>\n",
       "      <td>özlem sarı</td>\n",
       "      <td>2</td>\n",
       "      <td>0</td>\n",
       "      <td>41</td>\n",
       "      <td>1</td>\n",
       "      <td>1</td>\n",
       "      <td>3</td>\n",
       "      <td>2</td>\n",
       "      <td>15</td>\n",
       "      <td>...</td>\n",
       "      <td>11</td>\n",
       "      <td>25</td>\n",
       "      <td>9</td>\n",
       "      <td>3</td>\n",
       "      <td>33</td>\n",
       "      <td>33</td>\n",
       "      <td>5</td>\n",
       "      <td>1</td>\n",
       "      <td>1</td>\n",
       "      <td>0</td>\n",
       "    </tr>\n",
       "    <tr>\n",
       "      <th>2</th>\n",
       "      <td>74</td>\n",
       "      <td>alperen erdoğan</td>\n",
       "      <td>2</td>\n",
       "      <td>0</td>\n",
       "      <td>30</td>\n",
       "      <td>2</td>\n",
       "      <td>1</td>\n",
       "      <td>2</td>\n",
       "      <td>1</td>\n",
       "      <td>18</td>\n",
       "      <td>...</td>\n",
       "      <td>22</td>\n",
       "      <td>21</td>\n",
       "      <td>17</td>\n",
       "      <td>2</td>\n",
       "      <td>25</td>\n",
       "      <td>32</td>\n",
       "      <td>3</td>\n",
       "      <td>1</td>\n",
       "      <td>1</td>\n",
       "      <td>0</td>\n",
       "    </tr>\n",
       "    <tr>\n",
       "      <th>3</th>\n",
       "      <td>79</td>\n",
       "      <td>amine sarı</td>\n",
       "      <td>2</td>\n",
       "      <td>0</td>\n",
       "      <td>50</td>\n",
       "      <td>1</td>\n",
       "      <td>1</td>\n",
       "      <td>3</td>\n",
       "      <td>1</td>\n",
       "      <td>13</td>\n",
       "      <td>...</td>\n",
       "      <td>14</td>\n",
       "      <td>25</td>\n",
       "      <td>16</td>\n",
       "      <td>5</td>\n",
       "      <td>34</td>\n",
       "      <td>34</td>\n",
       "      <td>15</td>\n",
       "      <td>1</td>\n",
       "      <td>1</td>\n",
       "      <td>0</td>\n",
       "    </tr>\n",
       "    <tr>\n",
       "      <th>4</th>\n",
       "      <td>78</td>\n",
       "      <td>serpil sarı</td>\n",
       "      <td>2</td>\n",
       "      <td>0</td>\n",
       "      <td>40</td>\n",
       "      <td>1</td>\n",
       "      <td>1</td>\n",
       "      <td>1</td>\n",
       "      <td>1</td>\n",
       "      <td>16</td>\n",
       "      <td>...</td>\n",
       "      <td>17</td>\n",
       "      <td>5</td>\n",
       "      <td>17</td>\n",
       "      <td>7</td>\n",
       "      <td>37</td>\n",
       "      <td>22</td>\n",
       "      <td>15</td>\n",
       "      <td>1</td>\n",
       "      <td>1</td>\n",
       "      <td>0</td>\n",
       "    </tr>\n",
       "  </tbody>\n",
       "</table>\n",
       "<p>5 rows × 28 columns</p>\n",
       "</div>"
      ],
      "text/plain": [
       "   subjno             isim  grup  tanı  yas  cins  gelsekil  meddur  isdurum  \\\n",
       "0      77       kamer sarı     1     1   46     1         1       3        1   \n",
       "1      75       özlem sarı     2     0   41     1         1       3        2   \n",
       "2      74  alperen erdoğan     2     0   30     2         1       2        1   \n",
       "3      79       amine sarı     2     0   50     1         1       3        1   \n",
       "4      78      serpil sarı     2     0   40     1         1       1        1   \n",
       "\n",
       "   egitim  ...  novseek  harmavo  rewdep  persist  selfdirect  cooper  \\\n",
       "0      17  ...       11       20      10        4          35      30   \n",
       "1      15  ...       11       25       9        3          33      33   \n",
       "2      18  ...       22       21      17        2          25      32   \n",
       "3      13  ...       14       25      16        5          34      34   \n",
       "4      16  ...       17        5      17        7          37      22   \n",
       "\n",
       "  selftrans des_kategor  disq_kategor  filter_$  \n",
       "0         9           1             1         1  \n",
       "1         5           1             1         0  \n",
       "2         3           1             1         0  \n",
       "3        15           1             1         0  \n",
       "4        15           1             1         0  \n",
       "\n",
       "[5 rows x 28 columns]"
      ]
     },
     "execution_count": 8,
     "metadata": {},
     "output_type": "execute_result"
    }
   ],
   "source": [
    "df.head()\n"
   ]
  },
  {
   "cell_type": "code",
   "execution_count": 11,
   "metadata": {},
   "outputs": [
    {
     "data": {
      "text/plain": [
       "subjno                   2\n",
       "isim            huriye öen\n",
       "grup                     2\n",
       "tanı                     0\n",
       "yas                     52\n",
       "cins                     1\n",
       "gelsekil                 1\n",
       "meddur                   1\n",
       "isdurum                  1\n",
       "egitim                  21\n",
       "ekondur                  2\n",
       "tedavi                   1\n",
       "hastsur                  0\n",
       "alkolmadde               1\n",
       "hama                     4\n",
       "hamd                     2\n",
       "des                   3,92\n",
       "disq                  1,23\n",
       "novseek                 18\n",
       "harmavo                  9\n",
       "rewdep                  14\n",
       "persist                  8\n",
       "selfdirect              30\n",
       "cooper                  30\n",
       "selftrans               15\n",
       "des_kategor              1\n",
       "disq_kategor             1\n",
       "filter_$                 0\n",
       "Name: 10, dtype: object"
      ]
     },
     "execution_count": 11,
     "metadata": {},
     "output_type": "execute_result"
    }
   ],
   "source": [
    "df.iloc[10]"
   ]
  },
  {
   "cell_type": "code",
   "execution_count": 12,
   "metadata": {},
   "outputs": [
    {
     "data": {
      "text/plain": [
       "0           kamer sarı\n",
       "1           özlem sarı\n",
       "2      alperen erdoğan\n",
       "3           amine sarı\n",
       "4          serpil sarı\n",
       "            ...       \n",
       "145        nuriye acar\n",
       "146          hasta 110\n",
       "147          hasta 111\n",
       "148          hasta 121\n",
       "149          hasta 142\n",
       "Name: isim, Length: 150, dtype: object"
      ]
     },
     "execution_count": 12,
     "metadata": {},
     "output_type": "execute_result"
    }
   ],
   "source": [
    "df['isim']"
   ]
  },
  {
   "cell_type": "code",
   "execution_count": 14,
   "metadata": {},
   "outputs": [
    {
     "name": "stdout",
     "output_type": "stream",
     "text": [
      "1\n",
      "     subjno           isim  grup  tanı  yas  cins  gelsekil  meddur  isdurum  \\\n",
      "0        77     kamer sarı     1     1   46     1         1       3        1   \n",
      "44       28    gizem güler     1     1   21     1         1       2        3   \n",
      "45       29  mustafa doğan     1     1   23     2         1       2        2   \n",
      "46       30    rabia bulut     1     2   38     1         1       1        1   \n",
      "47       31    gamze şener     1     1   24     1         1       1        2   \n",
      "..      ...            ...   ...   ...  ...   ...       ...     ...      ...   \n",
      "145      93    nuriye acar     1     1   40     1         1       1        1   \n",
      "146     110      hasta 110     1     1   21     1         1       2        3   \n",
      "147     111      hasta 111     1     1   21     2         1       2        3   \n",
      "148     121      hasta 121     1     2   22     2         1       2        3   \n",
      "149     142      hasta 142     1     2   35     2         1       1        1   \n",
      "\n",
      "     egitim  ...  novseek  harmavo  rewdep  persist  selfdirect  cooper  \\\n",
      "0        17  ...       11       20      10        4          35      30   \n",
      "44       12  ...       28        6      10        3          22      25   \n",
      "45       16  ...       25       33      18        3          16      34   \n",
      "46       12  ...       18       24      10        5          20      29   \n",
      "47       12  ...       18       20      17        7          31      33   \n",
      "..      ...  ...      ...      ...     ...      ...         ...     ...   \n",
      "145      12  ...       19       30      17        0          13      21   \n",
      "146      16  ...       30       22      20        1           8      26   \n",
      "147      16  ...       17       28      15        2          20      19   \n",
      "148      17  ...       22       26       9        4          18      21   \n",
      "149       5  ...       13       30      17        6          21      37   \n",
      "\n",
      "    selftrans des_kategor  disq_kategor  filter_$  \n",
      "0           9           1             1         1  \n",
      "44         13           1             1         1  \n",
      "45         23           1             1         1  \n",
      "46         16           1             1         1  \n",
      "47         24           1             1         1  \n",
      "..        ...         ...           ...       ...  \n",
      "145        14           2             2         1  \n",
      "146        19           2             2         1  \n",
      "147        20           2             2         1  \n",
      "148        27           2             2         1  \n",
      "149        17           2             2         1  \n",
      "\n",
      "[75 rows x 28 columns]\n",
      "2\n",
      "     subjno              isim  grup  tanı  yas  cins  gelsekil  meddur  \\\n",
      "1        75        özlem sarı     2     0   41     1         1       3   \n",
      "2        74   alperen erdoğan     2     0   30     2         1       2   \n",
      "3        79        amine sarı     2     0   50     1         1       3   \n",
      "4        78       serpil sarı     2     0   40     1         1       1   \n",
      "5        19  nilüfer hacıoğlu     2     0   30     1         1       1   \n",
      "..      ...               ...   ...   ...  ...   ...       ...     ...   \n",
      "116     143       kontrol 143     2     0   24     1         1       2   \n",
      "117     144       kontrol 144     2     0   50     1         1       1   \n",
      "118     145       kontrol 145     2     0   27     1         1       2   \n",
      "119     146       kontrol 146     2     0   20     1         1       2   \n",
      "122     150       kontrol 150     2     0   23     1         1       2   \n",
      "\n",
      "     isdurum  egitim  ...  novseek  harmavo  rewdep  persist  selfdirect  \\\n",
      "1          2      15  ...       11       25       9        3          33   \n",
      "2          1      18  ...       22       21      17        2          25   \n",
      "3          1      13  ...       14       25      16        5          34   \n",
      "4          1      16  ...       17        5      17        7          37   \n",
      "5          1      18  ...       33       13      11        1          34   \n",
      "..       ...     ...  ...      ...      ...     ...      ...         ...   \n",
      "116        2       8  ...       21       13      11        5          31   \n",
      "117        1      12  ...        9       26      19        8          27   \n",
      "118        1      12  ...       21       19      12        2          40   \n",
      "119        2      12  ...       19       21      11        2          43   \n",
      "122        3      18  ...       27       17      18        4          37   \n",
      "\n",
      "     cooper selftrans des_kategor  disq_kategor  filter_$  \n",
      "1        33         5           1             1         0  \n",
      "2        32         3           1             1         0  \n",
      "3        34        15           1             1         0  \n",
      "4        22        15           1             1         0  \n",
      "5        32         7           1             1         0  \n",
      "..      ...       ...         ...           ...       ...  \n",
      "116      24        13           1             1         0  \n",
      "117      22        21           1             1         0  \n",
      "118      35        15           1             1         0  \n",
      "119      29         7           1             1         0  \n",
      "122      40        12           1             1         0  \n",
      "\n",
      "[75 rows x 28 columns]\n"
     ]
    }
   ],
   "source": [
    "for bought ,group in df.groupby('grup'):\n",
    "    print(bought)\n",
    "    print(group)"
   ]
  },
  {
   "cell_type": "code",
   "execution_count": 16,
   "metadata": {},
   "outputs": [
    {
     "name": "stdout",
     "output_type": "stream",
     "text": [
      "Object `pivot_table` not found.\n"
     ]
    }
   ],
   "source": [
    "pd :pivot_table?\n"
   ]
  },
  {
   "cell_type": "code",
   "execution_count": null,
   "metadata": {},
   "outputs": [],
   "source": [
    "pd :pivot_table"
   ]
  },
  {
   "cell_type": "code",
   "execution_count": null,
   "metadata": {},
   "outputs": [],
   "source": []
  },
  {
   "cell_type": "code",
   "execution_count": 18,
   "metadata": {},
   "outputs": [],
   "source": [
    "pd.pivot_table?\n"
   ]
  },
  {
   "cell_type": "code",
   "execution_count": null,
   "metadata": {},
   "outputs": [],
   "source": []
  },
  {
   "cell_type": "code",
   "execution_count": null,
   "metadata": {},
   "outputs": [],
   "source": [
    "pd.pivot_table(df2,values=['selftrans'],colum)"
   ]
  },
  {
   "cell_type": "code",
   "execution_count": 19,
   "metadata": {},
   "outputs": [
    {
     "data": {
      "text/html": [
       "<div>\n",
       "<style scoped>\n",
       "    .dataframe tbody tr th:only-of-type {\n",
       "        vertical-align: middle;\n",
       "    }\n",
       "\n",
       "    .dataframe tbody tr th {\n",
       "        vertical-align: top;\n",
       "    }\n",
       "\n",
       "    .dataframe thead th {\n",
       "        text-align: right;\n",
       "    }\n",
       "</style>\n",
       "<table border=\"1\" class=\"dataframe\">\n",
       "  <thead>\n",
       "    <tr style=\"text-align: right;\">\n",
       "      <th></th>\n",
       "      <th>subjno</th>\n",
       "      <th>grup</th>\n",
       "      <th>tanı</th>\n",
       "      <th>yas</th>\n",
       "      <th>cins</th>\n",
       "      <th>gelsekil</th>\n",
       "      <th>meddur</th>\n",
       "      <th>isdurum</th>\n",
       "      <th>egitim</th>\n",
       "      <th>ekondur</th>\n",
       "      <th>...</th>\n",
       "      <th>novseek</th>\n",
       "      <th>harmavo</th>\n",
       "      <th>rewdep</th>\n",
       "      <th>persist</th>\n",
       "      <th>selfdirect</th>\n",
       "      <th>cooper</th>\n",
       "      <th>selftrans</th>\n",
       "      <th>des_kategor</th>\n",
       "      <th>disq_kategor</th>\n",
       "      <th>filter_$</th>\n",
       "    </tr>\n",
       "  </thead>\n",
       "  <tbody>\n",
       "    <tr>\n",
       "      <th>count</th>\n",
       "      <td>150.000000</td>\n",
       "      <td>150.000000</td>\n",
       "      <td>150.000000</td>\n",
       "      <td>150.000000</td>\n",
       "      <td>150.000000</td>\n",
       "      <td>150.000000</td>\n",
       "      <td>150.000000</td>\n",
       "      <td>150.000000</td>\n",
       "      <td>150.000000</td>\n",
       "      <td>150.000000</td>\n",
       "      <td>...</td>\n",
       "      <td>150.000000</td>\n",
       "      <td>150.000000</td>\n",
       "      <td>150.00000</td>\n",
       "      <td>150.000000</td>\n",
       "      <td>150.000000</td>\n",
       "      <td>150.000000</td>\n",
       "      <td>150.000000</td>\n",
       "      <td>150.000000</td>\n",
       "      <td>150.000000</td>\n",
       "      <td>150.000000</td>\n",
       "    </tr>\n",
       "    <tr>\n",
       "      <th>mean</th>\n",
       "      <td>75.500000</td>\n",
       "      <td>1.500000</td>\n",
       "      <td>0.700000</td>\n",
       "      <td>30.386667</td>\n",
       "      <td>1.400000</td>\n",
       "      <td>1.013333</td>\n",
       "      <td>1.640000</td>\n",
       "      <td>2.040000</td>\n",
       "      <td>13.826667</td>\n",
       "      <td>2.180000</td>\n",
       "      <td>...</td>\n",
       "      <td>18.346667</td>\n",
       "      <td>21.473333</td>\n",
       "      <td>13.86000</td>\n",
       "      <td>4.653333</td>\n",
       "      <td>27.666667</td>\n",
       "      <td>28.293333</td>\n",
       "      <td>15.540000</td>\n",
       "      <td>1.126667</td>\n",
       "      <td>1.160000</td>\n",
       "      <td>0.500000</td>\n",
       "    </tr>\n",
       "    <tr>\n",
       "      <th>std</th>\n",
       "      <td>43.445368</td>\n",
       "      <td>0.501675</td>\n",
       "      <td>0.783641</td>\n",
       "      <td>10.528189</td>\n",
       "      <td>0.491539</td>\n",
       "      <td>0.115082</td>\n",
       "      <td>0.570882</td>\n",
       "      <td>0.842495</td>\n",
       "      <td>4.319064</td>\n",
       "      <td>0.449758</td>\n",
       "      <td>...</td>\n",
       "      <td>5.127877</td>\n",
       "      <td>6.306167</td>\n",
       "      <td>3.35991</td>\n",
       "      <td>1.741660</td>\n",
       "      <td>7.815547</td>\n",
       "      <td>6.137733</td>\n",
       "      <td>5.794733</td>\n",
       "      <td>0.333713</td>\n",
       "      <td>0.367834</td>\n",
       "      <td>0.501675</td>\n",
       "    </tr>\n",
       "    <tr>\n",
       "      <th>min</th>\n",
       "      <td>1.000000</td>\n",
       "      <td>1.000000</td>\n",
       "      <td>0.000000</td>\n",
       "      <td>18.000000</td>\n",
       "      <td>1.000000</td>\n",
       "      <td>1.000000</td>\n",
       "      <td>1.000000</td>\n",
       "      <td>1.000000</td>\n",
       "      <td>4.000000</td>\n",
       "      <td>1.000000</td>\n",
       "      <td>...</td>\n",
       "      <td>5.000000</td>\n",
       "      <td>5.000000</td>\n",
       "      <td>7.00000</td>\n",
       "      <td>0.000000</td>\n",
       "      <td>8.000000</td>\n",
       "      <td>12.000000</td>\n",
       "      <td>2.000000</td>\n",
       "      <td>1.000000</td>\n",
       "      <td>1.000000</td>\n",
       "      <td>0.000000</td>\n",
       "    </tr>\n",
       "    <tr>\n",
       "      <th>25%</th>\n",
       "      <td>38.250000</td>\n",
       "      <td>1.000000</td>\n",
       "      <td>0.000000</td>\n",
       "      <td>23.000000</td>\n",
       "      <td>1.000000</td>\n",
       "      <td>1.000000</td>\n",
       "      <td>1.000000</td>\n",
       "      <td>1.000000</td>\n",
       "      <td>12.000000</td>\n",
       "      <td>2.000000</td>\n",
       "      <td>...</td>\n",
       "      <td>14.000000</td>\n",
       "      <td>17.000000</td>\n",
       "      <td>11.00000</td>\n",
       "      <td>3.250000</td>\n",
       "      <td>21.000000</td>\n",
       "      <td>24.000000</td>\n",
       "      <td>12.000000</td>\n",
       "      <td>1.000000</td>\n",
       "      <td>1.000000</td>\n",
       "      <td>0.000000</td>\n",
       "    </tr>\n",
       "    <tr>\n",
       "      <th>50%</th>\n",
       "      <td>75.500000</td>\n",
       "      <td>1.500000</td>\n",
       "      <td>0.500000</td>\n",
       "      <td>26.500000</td>\n",
       "      <td>1.000000</td>\n",
       "      <td>1.000000</td>\n",
       "      <td>2.000000</td>\n",
       "      <td>2.000000</td>\n",
       "      <td>14.000000</td>\n",
       "      <td>2.000000</td>\n",
       "      <td>...</td>\n",
       "      <td>18.000000</td>\n",
       "      <td>22.000000</td>\n",
       "      <td>14.00000</td>\n",
       "      <td>5.000000</td>\n",
       "      <td>29.000000</td>\n",
       "      <td>28.500000</td>\n",
       "      <td>15.500000</td>\n",
       "      <td>1.000000</td>\n",
       "      <td>1.000000</td>\n",
       "      <td>0.500000</td>\n",
       "    </tr>\n",
       "    <tr>\n",
       "      <th>75%</th>\n",
       "      <td>112.750000</td>\n",
       "      <td>2.000000</td>\n",
       "      <td>1.000000</td>\n",
       "      <td>36.000000</td>\n",
       "      <td>2.000000</td>\n",
       "      <td>1.000000</td>\n",
       "      <td>2.000000</td>\n",
       "      <td>3.000000</td>\n",
       "      <td>17.000000</td>\n",
       "      <td>2.000000</td>\n",
       "      <td>...</td>\n",
       "      <td>22.000000</td>\n",
       "      <td>26.000000</td>\n",
       "      <td>16.00000</td>\n",
       "      <td>6.000000</td>\n",
       "      <td>34.000000</td>\n",
       "      <td>33.000000</td>\n",
       "      <td>19.000000</td>\n",
       "      <td>1.000000</td>\n",
       "      <td>1.000000</td>\n",
       "      <td>1.000000</td>\n",
       "    </tr>\n",
       "    <tr>\n",
       "      <th>max</th>\n",
       "      <td>150.000000</td>\n",
       "      <td>2.000000</td>\n",
       "      <td>2.000000</td>\n",
       "      <td>63.000000</td>\n",
       "      <td>2.000000</td>\n",
       "      <td>2.000000</td>\n",
       "      <td>3.000000</td>\n",
       "      <td>3.000000</td>\n",
       "      <td>22.000000</td>\n",
       "      <td>3.000000</td>\n",
       "      <td>...</td>\n",
       "      <td>33.000000</td>\n",
       "      <td>34.000000</td>\n",
       "      <td>22.00000</td>\n",
       "      <td>8.000000</td>\n",
       "      <td>44.000000</td>\n",
       "      <td>40.000000</td>\n",
       "      <td>30.000000</td>\n",
       "      <td>2.000000</td>\n",
       "      <td>2.000000</td>\n",
       "      <td>1.000000</td>\n",
       "    </tr>\n",
       "  </tbody>\n",
       "</table>\n",
       "<p>8 rows × 25 columns</p>\n",
       "</div>"
      ],
      "text/plain": [
       "           subjno        grup        tanı         yas        cins    gelsekil  \\\n",
       "count  150.000000  150.000000  150.000000  150.000000  150.000000  150.000000   \n",
       "mean    75.500000    1.500000    0.700000   30.386667    1.400000    1.013333   \n",
       "std     43.445368    0.501675    0.783641   10.528189    0.491539    0.115082   \n",
       "min      1.000000    1.000000    0.000000   18.000000    1.000000    1.000000   \n",
       "25%     38.250000    1.000000    0.000000   23.000000    1.000000    1.000000   \n",
       "50%     75.500000    1.500000    0.500000   26.500000    1.000000    1.000000   \n",
       "75%    112.750000    2.000000    1.000000   36.000000    2.000000    1.000000   \n",
       "max    150.000000    2.000000    2.000000   63.000000    2.000000    2.000000   \n",
       "\n",
       "           meddur     isdurum      egitim     ekondur  ...     novseek  \\\n",
       "count  150.000000  150.000000  150.000000  150.000000  ...  150.000000   \n",
       "mean     1.640000    2.040000   13.826667    2.180000  ...   18.346667   \n",
       "std      0.570882    0.842495    4.319064    0.449758  ...    5.127877   \n",
       "min      1.000000    1.000000    4.000000    1.000000  ...    5.000000   \n",
       "25%      1.000000    1.000000   12.000000    2.000000  ...   14.000000   \n",
       "50%      2.000000    2.000000   14.000000    2.000000  ...   18.000000   \n",
       "75%      2.000000    3.000000   17.000000    2.000000  ...   22.000000   \n",
       "max      3.000000    3.000000   22.000000    3.000000  ...   33.000000   \n",
       "\n",
       "          harmavo     rewdep     persist  selfdirect      cooper   selftrans  \\\n",
       "count  150.000000  150.00000  150.000000  150.000000  150.000000  150.000000   \n",
       "mean    21.473333   13.86000    4.653333   27.666667   28.293333   15.540000   \n",
       "std      6.306167    3.35991    1.741660    7.815547    6.137733    5.794733   \n",
       "min      5.000000    7.00000    0.000000    8.000000   12.000000    2.000000   \n",
       "25%     17.000000   11.00000    3.250000   21.000000   24.000000   12.000000   \n",
       "50%     22.000000   14.00000    5.000000   29.000000   28.500000   15.500000   \n",
       "75%     26.000000   16.00000    6.000000   34.000000   33.000000   19.000000   \n",
       "max     34.000000   22.00000    8.000000   44.000000   40.000000   30.000000   \n",
       "\n",
       "       des_kategor  disq_kategor    filter_$  \n",
       "count   150.000000    150.000000  150.000000  \n",
       "mean      1.126667      1.160000    0.500000  \n",
       "std       0.333713      0.367834    0.501675  \n",
       "min       1.000000      1.000000    0.000000  \n",
       "25%       1.000000      1.000000    0.000000  \n",
       "50%       1.000000      1.000000    0.500000  \n",
       "75%       1.000000      1.000000    1.000000  \n",
       "max       2.000000      2.000000    1.000000  \n",
       "\n",
       "[8 rows x 25 columns]"
      ]
     },
     "execution_count": 19,
     "metadata": {},
     "output_type": "execute_result"
    }
   ],
   "source": [
    "df.describe()"
   ]
  },
  {
   "cell_type": "code",
   "execution_count": 21,
   "metadata": {},
   "outputs": [
    {
     "data": {
      "text/plain": [
       "[2, 3, 4, 5]"
      ]
     },
     "execution_count": 21,
     "metadata": {},
     "output_type": "execute_result"
    }
   ],
   "source": [
    "list(map(lambda x:x+1 ,[1,2,3,4])) #map  burada birer lambda fonksiyonunu uygular, fonksiyonel bir özelliktir"
   ]
  },
  {
   "cell_type": "code",
   "execution_count": 23,
   "metadata": {},
   "outputs": [
    {
     "data": {
      "text/plain": [
       "[0, 7, 14, 21, 28, 35, 42, 49, 56, 63, 70]"
      ]
     },
     "execution_count": 23,
     "metadata": {},
     "output_type": "execute_result"
    }
   ],
   "source": [
    "list(filter(lambda x:x%7==0,list(range(71)))) #if gibi çalışır lambda fonksiyonundaki true olan yerleri yazar"
   ]
  },
  {
   "cell_type": "code",
   "execution_count": 24,
   "metadata": {},
   "outputs": [
    {
     "ename": "NameError",
     "evalue": "name 'reduce' is not defined",
     "output_type": "error",
     "traceback": [
      "\u001b[1;31m---------------------------------------------------------------------------\u001b[0m",
      "\u001b[1;31mNameError\u001b[0m                                 Traceback (most recent call last)",
      "\u001b[1;32m<ipython-input-24-98d32eaad258>\u001b[0m in \u001b[0;36m<module>\u001b[1;34m\u001b[0m\n\u001b[1;32m----> 1\u001b[1;33m \u001b[0mreduce\u001b[0m\u001b[1;33m(\u001b[0m\u001b[1;32mlambda\u001b[0m \u001b[0ma\u001b[0m\u001b[1;33m,\u001b[0m\u001b[0mb\u001b[0m\u001b[1;33m:\u001b[0m\u001b[0ma\u001b[0m\u001b[1;33m*\u001b[0m\u001b[0mb\u001b[0m\u001b[1;33m,\u001b[0m\u001b[1;33m[\u001b[0m\u001b[1;36m2\u001b[0m\u001b[1;33m,\u001b[0m\u001b[1;36m3\u001b[0m\u001b[1;33m,\u001b[0m\u001b[1;36m4\u001b[0m\u001b[1;33m,\u001b[0m\u001b[1;36m5\u001b[0m\u001b[1;33m]\u001b[0m\u001b[1;33m)\u001b[0m\u001b[1;33m\u001b[0m\u001b[1;33m\u001b[0m\u001b[0m\n\u001b[0m",
      "\u001b[1;31mNameError\u001b[0m: name 'reduce' is not defined"
     ]
    }
   ],
   "source": [
    "reduce(lambda a,b:a*b,[2,3,4,5])      #python2 de kullanılıyor"
   ]
  },
  {
   "cell_type": "code",
   "execution_count": 28,
   "metadata": {},
   "outputs": [],
   "source": [
    "l=[1,2,3,4,3,1]"
   ]
  },
  {
   "cell_type": "code",
   "execution_count": 32,
   "metadata": {},
   "outputs": [],
   "source": [
    "l.sort()     # işlemi verinin bulundugu yerde gerçekleştirdi bu yüzden veri degişti ,inline=kopyasını ürtmeden datanın içinde işlem yapma"
   ]
  },
  {
   "cell_type": "code",
   "execution_count": 33,
   "metadata": {},
   "outputs": [
    {
     "data": {
      "text/plain": [
       "[1, 1, 2, 3, 3, 4]"
      ]
     },
     "execution_count": 33,
     "metadata": {},
     "output_type": "execute_result"
    }
   ],
   "source": [
    "sorted(l)  #l ye atamadı"
   ]
  },
  {
   "cell_type": "code",
   "execution_count": 34,
   "metadata": {},
   "outputs": [
    {
     "data": {
      "text/plain": [
       "[1, 1, 2, 3, 3, 4]"
      ]
     },
     "execution_count": 34,
     "metadata": {},
     "output_type": "execute_result"
    }
   ],
   "source": [
    "l"
   ]
  },
  {
   "cell_type": "code",
   "execution_count": 35,
   "metadata": {},
   "outputs": [],
   "source": [
    "df.apply??"
   ]
  },
  {
   "cell_type": "code",
   "execution_count": 36,
   "metadata": {},
   "outputs": [],
   "source": [
    "a=[[2018,5,24],[2018,10,10],[2019,10,24],[2018,3,24],[2018,10,4],[7,10,24],[2018,10,4]]"
   ]
  },
  {
   "cell_type": "code",
   "execution_count": 39,
   "metadata": {},
   "outputs": [],
   "source": [
    "import numpy as np\n"
   ]
  },
  {
   "cell_type": "code",
   "execution_count": 41,
   "metadata": {},
   "outputs": [],
   "source": [
    "data = np.array([['','Col1','Col2'],\n",
    "                ['Row1',2018,2],\n",
    "                ['Row2',2018,3],\n",
    "                ['Row1',2018,4],\n",
    "                ['Row1',2018,5],\n",
    "                ['Row1',2018,6],\n",
    "                ['Row1',2018,7],\n",
    "                ['Row1',2018,8],])"
   ]
  },
  {
   "cell_type": "code",
   "execution_count": 42,
   "metadata": {},
   "outputs": [],
   "source": [
    "data=pd.DataFrame(data=data[1:,1:],\n",
    "                  index=data[1:,0],\n",
    "                  columns=data[0,1:])"
   ]
  },
  {
   "cell_type": "code",
   "execution_count": 43,
   "metadata": {},
   "outputs": [
    {
     "data": {
      "text/html": [
       "<div>\n",
       "<style scoped>\n",
       "    .dataframe tbody tr th:only-of-type {\n",
       "        vertical-align: middle;\n",
       "    }\n",
       "\n",
       "    .dataframe tbody tr th {\n",
       "        vertical-align: top;\n",
       "    }\n",
       "\n",
       "    .dataframe thead th {\n",
       "        text-align: right;\n",
       "    }\n",
       "</style>\n",
       "<table border=\"1\" class=\"dataframe\">\n",
       "  <thead>\n",
       "    <tr style=\"text-align: right;\">\n",
       "      <th></th>\n",
       "      <th>Col1</th>\n",
       "      <th>Col2</th>\n",
       "    </tr>\n",
       "  </thead>\n",
       "  <tbody>\n",
       "    <tr>\n",
       "      <th>Row1</th>\n",
       "      <td>2018</td>\n",
       "      <td>2</td>\n",
       "    </tr>\n",
       "    <tr>\n",
       "      <th>Row2</th>\n",
       "      <td>2018</td>\n",
       "      <td>3</td>\n",
       "    </tr>\n",
       "    <tr>\n",
       "      <th>Row1</th>\n",
       "      <td>2018</td>\n",
       "      <td>4</td>\n",
       "    </tr>\n",
       "    <tr>\n",
       "      <th>Row1</th>\n",
       "      <td>2018</td>\n",
       "      <td>5</td>\n",
       "    </tr>\n",
       "    <tr>\n",
       "      <th>Row1</th>\n",
       "      <td>2018</td>\n",
       "      <td>6</td>\n",
       "    </tr>\n",
       "    <tr>\n",
       "      <th>Row1</th>\n",
       "      <td>2018</td>\n",
       "      <td>7</td>\n",
       "    </tr>\n",
       "    <tr>\n",
       "      <th>Row1</th>\n",
       "      <td>2018</td>\n",
       "      <td>8</td>\n",
       "    </tr>\n",
       "  </tbody>\n",
       "</table>\n",
       "</div>"
      ],
      "text/plain": [
       "      Col1 Col2\n",
       "Row1  2018    2\n",
       "Row2  2018    3\n",
       "Row1  2018    4\n",
       "Row1  2018    5\n",
       "Row1  2018    6\n",
       "Row1  2018    7\n",
       "Row1  2018    8"
      ]
     },
     "execution_count": 43,
     "metadata": {},
     "output_type": "execute_result"
    }
   ],
   "source": [
    "data\n"
   ]
  },
  {
   "cell_type": "code",
   "execution_count": 51,
   "metadata": {},
   "outputs": [
    {
     "data": {
      "text/html": [
       "<div>\n",
       "<style scoped>\n",
       "    .dataframe tbody tr th:only-of-type {\n",
       "        vertical-align: middle;\n",
       "    }\n",
       "\n",
       "    .dataframe tbody tr th {\n",
       "        vertical-align: top;\n",
       "    }\n",
       "\n",
       "    .dataframe thead th {\n",
       "        text-align: right;\n",
       "    }\n",
       "</style>\n",
       "<table border=\"1\" class=\"dataframe\">\n",
       "  <thead>\n",
       "    <tr style=\"text-align: right;\">\n",
       "      <th></th>\n",
       "      <th>Col1</th>\n",
       "      <th>Col2</th>\n",
       "    </tr>\n",
       "  </thead>\n",
       "  <tbody>\n",
       "    <tr>\n",
       "      <th>Row1</th>\n",
       "      <td>2018</td>\n",
       "      <td>2</td>\n",
       "    </tr>\n",
       "    <tr>\n",
       "      <th>Row2</th>\n",
       "      <td>2018</td>\n",
       "      <td>3</td>\n",
       "    </tr>\n",
       "    <tr>\n",
       "      <th>Row1</th>\n",
       "      <td>2018</td>\n",
       "      <td>4</td>\n",
       "    </tr>\n",
       "    <tr>\n",
       "      <th>Row1</th>\n",
       "      <td>2018</td>\n",
       "      <td>5</td>\n",
       "    </tr>\n",
       "    <tr>\n",
       "      <th>Row1</th>\n",
       "      <td>2018</td>\n",
       "      <td>6</td>\n",
       "    </tr>\n",
       "    <tr>\n",
       "      <th>Row1</th>\n",
       "      <td>2018</td>\n",
       "      <td>7</td>\n",
       "    </tr>\n",
       "    <tr>\n",
       "      <th>Row1</th>\n",
       "      <td>2018</td>\n",
       "      <td>8</td>\n",
       "    </tr>\n",
       "  </tbody>\n",
       "</table>\n",
       "</div>"
      ],
      "text/plain": [
       "      Col1 Col2\n",
       "Row1  2018    2\n",
       "Row2  2018    3\n",
       "Row1  2018    4\n",
       "Row1  2018    5\n",
       "Row1  2018    6\n",
       "Row1  2018    7\n",
       "Row1  2018    8"
      ]
     },
     "execution_count": 51,
     "metadata": {},
     "output_type": "execute_result"
    }
   ],
   "source": [
    "data.rename(index={'Col1':'Year','Col2':'Mounth'})"
   ]
  },
  {
   "cell_type": "code",
   "execution_count": 53,
   "metadata": {},
   "outputs": [
    {
     "data": {
      "text/plain": [
       "[4, 5, 6, 7, 1, 2, 3, 4]"
      ]
     },
     "execution_count": 53,
     "metadata": {},
     "output_type": "execute_result"
    }
   ],
   "source": [
    "l=[1,2,3,4]\n",
    "k=[4,5,6,7]\n",
    "k+l"
   ]
  },
  {
   "cell_type": "code",
   "execution_count": 54,
   "metadata": {},
   "outputs": [],
   "source": [
    "import numpy as np"
   ]
  },
  {
   "cell_type": "code",
   "execution_count": 58,
   "metadata": {},
   "outputs": [
    {
     "data": {
      "text/plain": [
       "array([ 5,  7,  9, 11])"
      ]
     },
     "execution_count": 58,
     "metadata": {},
     "output_type": "execute_result"
    }
   ],
   "source": [
    "a=np.array([1,2,3,4])\n",
    "b=np.array([4,5,6,7])\n",
    "a+b"
   ]
  },
  {
   "cell_type": "code",
   "execution_count": 59,
   "metadata": {},
   "outputs": [
    {
     "data": {
      "text/plain": [
       "numpy.ndarray"
      ]
     },
     "execution_count": 59,
     "metadata": {},
     "output_type": "execute_result"
    }
   ],
   "source": [
    "type(a)"
   ]
  },
  {
   "cell_type": "code",
   "execution_count": 67,
   "metadata": {},
   "outputs": [],
   "source": [
    "array2d1=np.array([\n",
    " [1,2,3],\n",
    " [2,3,4]  \n",
    "    \n",
    "])"
   ]
  },
  {
   "cell_type": "code",
   "execution_count": 68,
   "metadata": {},
   "outputs": [
    {
     "data": {
      "text/plain": [
       "array([[1, 2, 3],\n",
       "       [2, 3, 4]])"
      ]
     },
     "execution_count": 68,
     "metadata": {},
     "output_type": "execute_result"
    }
   ],
   "source": [
    "array2d1"
   ]
  },
  {
   "cell_type": "code",
   "execution_count": 71,
   "metadata": {},
   "outputs": [],
   "source": [
    "array2d2=np.array([\n",
    " [4,5],\n",
    " [7,8],\n",
    " [8,9]\n",
    "    \n",
    "])"
   ]
  },
  {
   "cell_type": "code",
   "execution_count": 72,
   "metadata": {},
   "outputs": [
    {
     "data": {
      "text/plain": [
       "array([[42, 48],\n",
       "       [61, 70]])"
      ]
     },
     "execution_count": 72,
     "metadata": {},
     "output_type": "execute_result"
    }
   ],
   "source": [
    "np.matmul(array2d1,array2d2)"
   ]
  },
  {
   "cell_type": "code",
   "execution_count": 73,
   "metadata": {},
   "outputs": [
    {
     "data": {
      "text/plain": [
       "array([[42, 48],\n",
       "       [61, 70]])"
      ]
     },
     "execution_count": 73,
     "metadata": {},
     "output_type": "execute_result"
    }
   ],
   "source": [
    "array2d1@array2d2"
   ]
  },
  {
   "cell_type": "code",
   "execution_count": 74,
   "metadata": {},
   "outputs": [
    {
     "data": {
      "text/plain": [
       "(2, 3)"
      ]
     },
     "execution_count": 74,
     "metadata": {},
     "output_type": "execute_result"
    }
   ],
   "source": [
    "array2d1.shape "
   ]
  },
  {
   "cell_type": "code",
   "execution_count": 75,
   "metadata": {},
   "outputs": [
    {
     "data": {
      "text/plain": [
       "array([[0., 0., 0., 0.],\n",
       "       [0., 0., 0., 0.]])"
      ]
     },
     "execution_count": 75,
     "metadata": {},
     "output_type": "execute_result"
    }
   ],
   "source": [
    "np.zeros((2,4))"
   ]
  },
  {
   "cell_type": "code",
   "execution_count": 76,
   "metadata": {},
   "outputs": [
    {
     "data": {
      "text/plain": [
       "array([[1., 1., 1.],\n",
       "       [1., 1., 1.],\n",
       "       [1., 1., 1.]])"
      ]
     },
     "execution_count": 76,
     "metadata": {},
     "output_type": "execute_result"
    }
   ],
   "source": [
    "np.ones((3,3))"
   ]
  },
  {
   "cell_type": "code",
   "execution_count": 77,
   "metadata": {},
   "outputs": [
    {
     "data": {
      "text/plain": [
       "array([1., 1., 1.])"
      ]
     },
     "execution_count": 77,
     "metadata": {},
     "output_type": "execute_result"
    }
   ],
   "source": [
    "np.ones((3))"
   ]
  },
  {
   "cell_type": "code",
   "execution_count": 83,
   "metadata": {},
   "outputs": [
    {
     "data": {
      "text/plain": [
       "array([[1., 0., 0., 0., 0., 0., 0., 0., 0., 0.],\n",
       "       [0., 1., 0., 0., 0., 0., 0., 0., 0., 0.],\n",
       "       [0., 0., 1., 0., 0., 0., 0., 0., 0., 0.],\n",
       "       [0., 0., 0., 1., 0., 0., 0., 0., 0., 0.],\n",
       "       [0., 0., 0., 0., 1., 0., 0., 0., 0., 0.],\n",
       "       [0., 0., 0., 0., 0., 1., 0., 0., 0., 0.],\n",
       "       [0., 0., 0., 0., 0., 0., 1., 0., 0., 0.],\n",
       "       [0., 0., 0., 0., 0., 0., 0., 1., 0., 0.],\n",
       "       [0., 0., 0., 0., 0., 0., 0., 0., 1., 0.],\n",
       "       [0., 0., 0., 0., 0., 0., 0., 0., 0., 1.]])"
      ]
     },
     "execution_count": 83,
     "metadata": {},
     "output_type": "execute_result"
    }
   ],
   "source": [
    "np.eye((10))"
   ]
  },
  {
   "cell_type": "code",
   "execution_count": 90,
   "metadata": {},
   "outputs": [],
   "source": [
    "sarray=np.array([\n",
    "    [1,15,3],\n",
    "    [20,3,4],\n",
    "    [3,4,18]\n",
    "])"
   ]
  },
  {
   "cell_type": "code",
   "execution_count": 91,
   "metadata": {},
   "outputs": [
    {
     "data": {
      "text/plain": [
       "array([[ 1.00000000e+00,  1.38777878e-17,  1.38777878e-17],\n",
       "       [ 1.73472348e-18,  1.00000000e+00,  1.04083409e-17],\n",
       "       [-6.93889390e-18,  0.00000000e+00,  1.00000000e+00]])"
      ]
     },
     "execution_count": 91,
     "metadata": {},
     "output_type": "execute_result"
    }
   ],
   "source": [
    "np.linalg.inv(sarray) @sarray"
   ]
  },
  {
   "cell_type": "code",
   "execution_count": 92,
   "metadata": {},
   "outputs": [
    {
     "data": {
      "text/plain": [
       "array([[2101, 5334, 3324],\n",
       "       [7024, 2931, 4168],\n",
       "       [3764, 3838, 7209]])"
      ]
     },
     "execution_count": 92,
     "metadata": {},
     "output_type": "execute_result"
    }
   ],
   "source": [
    "np.linalg.matrix_power(sarray,3)"
   ]
  },
  {
   "cell_type": "code",
   "execution_count": 94,
   "metadata": {},
   "outputs": [
    {
     "data": {
      "text/plain": [
       "array([ 1.,  2.,  3.,  4.,  5.,  6.,  7.,  8.,  9., 10.])"
      ]
     },
     "execution_count": 94,
     "metadata": {},
     "output_type": "execute_result"
    }
   ],
   "source": [
    "np.linspace(1,10,10)"
   ]
  },
  {
   "cell_type": "code",
   "execution_count": 96,
   "metadata": {},
   "outputs": [
    {
     "data": {
      "text/plain": [
       "array([[791, 510, 163, 136, 346],\n",
       "       [622, 535, 730, 521, 548]])"
      ]
     },
     "execution_count": 96,
     "metadata": {},
     "output_type": "execute_result"
    }
   ],
   "source": [
    "np.random.randint(1,1000,10).reshape((2,5))"
   ]
  },
  {
   "cell_type": "code",
   "execution_count": 98,
   "metadata": {},
   "outputs": [],
   "source": [
    "l=np.array(l)"
   ]
  },
  {
   "cell_type": "code",
   "execution_count": 99,
   "metadata": {},
   "outputs": [
    {
     "data": {
      "text/plain": [
       "array([1, 2, 3, 4])"
      ]
     },
     "execution_count": 99,
     "metadata": {},
     "output_type": "execute_result"
    }
   ],
   "source": [
    "l"
   ]
  },
  {
   "cell_type": "code",
   "execution_count": 100,
   "metadata": {},
   "outputs": [
    {
     "data": {
      "text/plain": [
       "array([[ 1, 15,  3, 20,  3,  4,  3,  4, 18]])"
      ]
     },
     "execution_count": 100,
     "metadata": {},
     "output_type": "execute_result"
    }
   ],
   "source": [
    "sarray.reshape(1,-1)"
   ]
  },
  {
   "cell_type": "code",
   "execution_count": 101,
   "metadata": {},
   "outputs": [
    {
     "data": {
      "text/plain": [
       "array([[ 1],\n",
       "       [15],\n",
       "       [ 3],\n",
       "       [20],\n",
       "       [ 3],\n",
       "       [ 4],\n",
       "       [ 3],\n",
       "       [ 4],\n",
       "       [18]])"
      ]
     },
     "execution_count": 101,
     "metadata": {},
     "output_type": "execute_result"
    }
   ],
   "source": [
    "sarray.reshape(-1,1)"
   ]
  },
  {
   "cell_type": "code",
   "execution_count": 102,
   "metadata": {},
   "outputs": [
    {
     "data": {
      "text/plain": [
       "array([[ 1, 20,  3],\n",
       "       [15,  3,  4],\n",
       "       [ 3,  4, 18]])"
      ]
     },
     "execution_count": 102,
     "metadata": {},
     "output_type": "execute_result"
    }
   ],
   "source": [
    "sarray.T"
   ]
  },
  {
   "cell_type": "code",
   "execution_count": 103,
   "metadata": {},
   "outputs": [
    {
     "data": {
      "text/plain": [
       "array([[ 1, 15,  3],\n",
       "       [20,  3,  4],\n",
       "       [ 3,  4, 18]])"
      ]
     },
     "execution_count": 103,
     "metadata": {},
     "output_type": "execute_result"
    }
   ],
   "source": [
    "sarray"
   ]
  },
  {
   "cell_type": "code",
   "execution_count": 104,
   "metadata": {},
   "outputs": [
    {
     "data": {
      "text/plain": [
       "array([[ 1, 20,  3],\n",
       "       [15,  3,  4],\n",
       "       [ 3,  4, 18]])"
      ]
     },
     "execution_count": 104,
     "metadata": {},
     "output_type": "execute_result"
    }
   ],
   "source": [
    "np.transpose(sarray)"
   ]
  },
  {
   "cell_type": "code",
   "execution_count": 105,
   "metadata": {},
   "outputs": [
    {
     "data": {
      "text/plain": [
       "4"
      ]
     },
     "execution_count": 105,
     "metadata": {},
     "output_type": "execute_result"
    }
   ],
   "source": [
    "sarray[1,2]"
   ]
  },
  {
   "cell_type": "code",
   "execution_count": 107,
   "metadata": {},
   "outputs": [
    {
     "data": {
      "text/plain": [
       "array([[20,  3],\n",
       "       [ 3,  4]])"
      ]
     },
     "execution_count": 107,
     "metadata": {},
     "output_type": "execute_result"
    }
   ],
   "source": [
    "sarray[1:3,0:2]"
   ]
  },
  {
   "cell_type": "code",
   "execution_count": 1,
   "metadata": {},
   "outputs": [],
   "source": [
    "import numpy as np"
   ]
  },
  {
   "cell_type": "code",
   "execution_count": 2,
   "metadata": {},
   "outputs": [
    {
     "data": {
      "text/plain": [
       "array([-1,  0,  1])"
      ]
     },
     "execution_count": 2,
     "metadata": {},
     "output_type": "execute_result"
    }
   ],
   "source": [
    "np.arange(3)-1"
   ]
  },
  {
   "cell_type": "code",
   "execution_count": null,
   "metadata": {},
   "outputs": [],
   "source": []
  }
 ],
 "metadata": {
  "kernelspec": {
   "display_name": "Python 3",
   "language": "python",
   "name": "python3"
  },
  "language_info": {
   "codemirror_mode": {
    "name": "ipython",
    "version": 3
   },
   "file_extension": ".py",
   "mimetype": "text/x-python",
   "name": "python",
   "nbconvert_exporter": "python",
   "pygments_lexer": "ipython3",
   "version": "3.7.1"
  }
 },
 "nbformat": 4,
 "nbformat_minor": 2
}
