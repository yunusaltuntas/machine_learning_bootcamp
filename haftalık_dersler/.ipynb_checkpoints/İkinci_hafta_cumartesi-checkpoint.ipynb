{
 "cells": [
  {
   "cell_type": "code",
   "execution_count": 1,
   "metadata": {},
   "outputs": [],
   "source": [
    "  import requests"
   ]
  },
  {
   "cell_type": "code",
   "execution_count": 2,
   "metadata": {},
   "outputs": [
    {
     "name": "stdout",
     "output_type": "stream",
     "text": [
      "Collecting request\n",
      "  Downloading https://files.pythonhosted.org/packages/f1/27/7cbde262d854aedf217061a97020d66a63163c5c04e0ec02ff98c5d8f44e/request-2019.4.13.tar.gz\n",
      "Collecting bs4\n",
      "  Downloading https://files.pythonhosted.org/packages/10/ed/7e8b97591f6f456174139ec089c769f89a94a1a4025fe967691de971f314/bs4-0.0.1.tar.gz\n",
      "Collecting get\n",
      "  Downloading https://files.pythonhosted.org/packages/3f/ef/bb46f77f7220ac1b7edba0c76d810c89fddb24ddd8c08f337b9b4a618db7/get-2019.4.13.tar.gz\n",
      "Collecting post\n",
      "  Downloading https://files.pythonhosted.org/packages/0f/05/bd79da5849ea6a92485ed7029ef97b1b75e55c26bc0ed3a7ec769af666f3/post-2019.4.13.tar.gz\n",
      "Requirement already satisfied: setuptools in d:\\program files\\anaconda navigator\\lib\\site-packages (from request) (41.4.0)\n",
      "Requirement already satisfied: beautifulsoup4 in d:\\program files\\anaconda navigator\\lib\\site-packages (from bs4) (4.8.0)\n",
      "Collecting query_string\n",
      "  Downloading https://files.pythonhosted.org/packages/12/3c/412a45daf5bea9b1d06d7de41787ec4168001dfa418db7ec8723356b119f/query-string-2019.4.13.tar.gz\n",
      "Requirement already satisfied: soupsieve>=1.2 in d:\\program files\\anaconda navigator\\lib\\site-packages (from beautifulsoup4->bs4) (1.9.3)\n",
      "Collecting public\n",
      "  Downloading https://files.pythonhosted.org/packages/54/4d/b40004cc6c07665e48af22cfe1e631f219bf4282e15fa76a5b6364f6885c/public-2019.4.13.tar.gz\n",
      "Building wheels for collected packages: request, bs4, get, post, query-string, public\n",
      "  Building wheel for request (setup.py): started\n",
      "  Building wheel for request (setup.py): finished with status 'done'\n",
      "  Created wheel for request: filename=request-2019.4.13-cp37-none-any.whl size=1681 sha256=e46b5cd6bdb96177f5635aeb3e1b219b4d2343e7e9cb9fa489f3510adb1fe7dc\n",
      "  Stored in directory: C:\\Users\\yunus\\AppData\\Local\\pip\\Cache\\wheels\\30\\84\\5f\\484cfba678967ef58c16fce6890925d5c7172622f20111fbfd\n",
      "  Building wheel for bs4 (setup.py): started\n",
      "  Building wheel for bs4 (setup.py): finished with status 'done'\n",
      "  Created wheel for bs4: filename=bs4-0.0.1-cp37-none-any.whl size=1278 sha256=aa9e19741c398338a1e6596289ab075165236c8d63db0b7fd284c0c4480d883b\n",
      "  Stored in directory: C:\\Users\\yunus\\AppData\\Local\\pip\\Cache\\wheels\\a0\\b0\\b2\\4f80b9456b87abedbc0bf2d52235414c3467d8889be38dd472\n",
      "  Building wheel for get (setup.py): started\n",
      "  Building wheel for get (setup.py): finished with status 'done'\n",
      "  Created wheel for get: filename=get-2019.4.13-cp37-none-any.whl size=1697 sha256=b77e4b833b5b46ec37af9d6b28e4f6c40427eec0883e298adef1f3d8a43cd96b\n",
      "  Stored in directory: C:\\Users\\yunus\\AppData\\Local\\pip\\Cache\\wheels\\c1\\e3\\c1\\d02c8c58538853e4c9b78cadb74f6d5c5c370b48a69a7271aa\n",
      "  Building wheel for post (setup.py): started\n",
      "  Building wheel for post (setup.py): finished with status 'done'\n",
      "  Created wheel for post: filename=post-2019.4.13-cp37-none-any.whl size=1665 sha256=de3dcab7cd84e46d762d71c02ae66654be6e5fc4fc83df5063137062057d615a\n",
      "  Stored in directory: C:\\Users\\yunus\\AppData\\Local\\pip\\Cache\\wheels\\c3\\c3\\24\\b5c132b537ab380c02d69e6bd4dec1f5db56b5fe19030473d7\n",
      "  Building wheel for query-string (setup.py): started\n",
      "  Building wheel for query-string (setup.py): finished with status 'done'\n",
      "  Created wheel for query-string: filename=query_string-2019.4.13-cp37-none-any.whl size=2055 sha256=64e2a81e85cc5b04eed75786b68e967a428580ce266295db9aa9a5df309f4bb6\n",
      "  Stored in directory: C:\\Users\\yunus\\AppData\\Local\\pip\\Cache\\wheels\\d6\\a4\\78\\01b20a9dc224dcc009fab669f7f27b943b8889c5150bd68d8a\n",
      "  Building wheel for public (setup.py): started\n",
      "  Building wheel for public (setup.py): finished with status 'done'\n",
      "  Created wheel for public: filename=public-2019.4.13-cp37-none-any.whl size=2541 sha256=3fb740355949096f085a4779eb63157a114b7d879f995b0fc6891fee60c678cc\n",
      "  Stored in directory: C:\\Users\\yunus\\AppData\\Local\\pip\\Cache\\wheels\\23\\7c\\6e\\f5b4e09d6596c8b8802b347e48f149031e2363368048f1347a\n",
      "Successfully built request bs4 get post query-string public\n",
      "Installing collected packages: public, query-string, get, post, request, bs4\n",
      "Successfully installed bs4-0.0.1 get-2019.4.13 post-2019.4.13 public-2019.4.13 query-string-2019.4.13 request-2019.4.13\n"
     ]
    }
   ],
   "source": [
    "!pip install request bs4"
   ]
  },
  {
   "cell_type": "code",
   "execution_count": 3,
   "metadata": {},
   "outputs": [],
   "source": [
    "from bs4 import BeautifulSoup as bs"
   ]
  },
  {
   "cell_type": "code",
   "execution_count": 5,
   "metadata": {},
   "outputs": [],
   "source": [
    "req=requests.get('https://www.consumeraffairs.com/finance/hsbc.html?page=3#sort=recent&filter=none')"
   ]
  },
  {
   "cell_type": "code",
   "execution_count": 9,
   "metadata": {},
   "outputs": [],
   "source": [
    "soup=bs(req.text)"
   ]
  },
  {
   "cell_type": "raw",
   "metadata": {},
   "source": []
  }
 ],
 "metadata": {
  "kernelspec": {
   "display_name": "Python 3",
   "language": "python",
   "name": "python3"
  },
  "language_info": {
   "codemirror_mode": {
    "name": "ipython",
    "version": 3
   },
   "file_extension": ".py",
   "mimetype": "text/x-python",
   "name": "python",
   "nbconvert_exporter": "python",
   "pygments_lexer": "ipython3",
   "version": "3.7.1"
  }
 },
 "nbformat": 4,
 "nbformat_minor": 2
}
