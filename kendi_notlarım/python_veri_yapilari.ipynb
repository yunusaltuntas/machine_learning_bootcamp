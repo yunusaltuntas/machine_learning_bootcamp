{
 "cells": [
  {
   "cell_type": "markdown",
   "metadata": {},
   "source": [
    "# Python Veri Yapıları"
   ]
  },
  {
   "cell_type": "markdown",
   "metadata": {},
   "source": [
    "Veri yapıları verileri bir arada tutan, organizasyonunu, yönetimini ve depolanmasını sağlayan yapılardır.\n",
    "\n",
    "Bir başka deyişle; veri yapıları birbiri ile ilgili veriler bütünüdür"
   ]
  },
  {
   "cell_type": "markdown",
   "metadata": {},
   "source": [
    "* list\n",
    "* tuple\n",
    "* set\n",
    "* dict"
   ]
  },
  {
   "cell_type": "markdown",
   "metadata": {},
   "source": [
    "## list "
   ]
  },
  {
   "cell_type": "markdown",
   "metadata": {},
   "source": [
    "Değişken ve sıralı bir veri yapısıdır."
   ]
  },
  {
   "cell_type": "code",
   "execution_count": 1,
   "metadata": {},
   "outputs": [
    {
     "data": {
      "text/plain": [
       "[1, 2, 3, 4]"
      ]
     },
     "execution_count": 1,
     "metadata": {},
     "output_type": "execute_result"
    }
   ],
   "source": [
    "# liste tanimlama\n",
    "liste = [1,2,3,4]\n",
    "liste"
   ]
  },
  {
   "cell_type": "code",
   "execution_count": 2,
   "metadata": {},
   "outputs": [
    {
     "data": {
      "text/plain": [
       "1"
      ]
     },
     "execution_count": 2,
     "metadata": {},
     "output_type": "execute_result"
    }
   ],
   "source": [
    "# elemanlara erişim\n",
    "liste[0]"
   ]
  },
  {
   "cell_type": "code",
   "execution_count": 3,
   "metadata": {},
   "outputs": [
    {
     "data": {
      "text/plain": [
       "11"
      ]
     },
     "execution_count": 3,
     "metadata": {},
     "output_type": "execute_result"
    }
   ],
   "source": [
    "# icindeki elemanlari degistirme\n",
    "liste[0] = 11\n",
    "liste[0]\n",
    "#type(liste[0])"
   ]
  },
  {
   "cell_type": "code",
   "execution_count": 4,
   "metadata": {},
   "outputs": [
    {
     "data": {
      "text/plain": [
       "str"
      ]
     },
     "execution_count": 4,
     "metadata": {},
     "output_type": "execute_result"
    }
   ],
   "source": [
    "# listenin karma bir yapisi olabilir\n",
    "liste2 = [\"elma\",1,2.0,True]\n",
    "type(liste2[0])"
   ]
  },
  {
   "cell_type": "code",
   "execution_count": 5,
   "metadata": {},
   "outputs": [
    {
     "name": "stdout",
     "output_type": "stream",
     "text": [
      "elma var!\n"
     ]
    }
   ],
   "source": [
    "# in kullanimi\n",
    "if (\"elma\" in liste2):\n",
    "    print(\"elma var!\")"
   ]
  },
  {
   "cell_type": "code",
   "execution_count": 6,
   "metadata": {},
   "outputs": [
    {
     "data": {
      "text/plain": [
       "4"
      ]
     },
     "execution_count": 6,
     "metadata": {},
     "output_type": "execute_result"
    }
   ],
   "source": [
    "# liste uzunluğu\n",
    "len(liste2)"
   ]
  },
  {
   "cell_type": "code",
   "execution_count": 7,
   "metadata": {},
   "outputs": [
    {
     "data": {
      "text/plain": [
       "['başa ekledik', 11, 2, 3, 4]"
      ]
     },
     "execution_count": 7,
     "metadata": {},
     "output_type": "execute_result"
    }
   ],
   "source": [
    "# eleman ekleme\n",
    "liste.insert(0,\"başa ekledik\")\n",
    "liste"
   ]
  },
  {
   "cell_type": "code",
   "execution_count": 8,
   "metadata": {},
   "outputs": [
    {
     "data": {
      "text/plain": [
       "[11, 2, 3, 4]"
      ]
     },
     "execution_count": 8,
     "metadata": {},
     "output_type": "execute_result"
    }
   ],
   "source": [
    "# listeden eleman silme\n",
    "liste.remove(\"başa ekledik\")\n",
    "liste"
   ]
  },
  {
   "cell_type": "code",
   "execution_count": 9,
   "metadata": {},
   "outputs": [
    {
     "name": "stdout",
     "output_type": "stream",
     "text": [
      "['elma', 1, 2.0]\n",
      "True\n"
     ]
    }
   ],
   "source": [
    "# pop kullanımı\n",
    "liste2 = [\"elma\",1,2.0,True]\n",
    "son_eleman = liste2.pop()\n",
    "print(liste2)\n",
    "print(son_eleman)"
   ]
  },
  {
   "cell_type": "code",
   "execution_count": 10,
   "metadata": {},
   "outputs": [
    {
     "name": "stdout",
     "output_type": "stream",
     "text": [
      "['elma', 2.0, True]\n"
     ]
    }
   ],
   "source": [
    "# istenilen elemanı silme\n",
    "liste2 = [\"elma\",1,2.0,True]\n",
    "del liste2[1]\n",
    "print(liste2)"
   ]
  },
  {
   "cell_type": "code",
   "execution_count": 11,
   "metadata": {},
   "outputs": [
    {
     "data": {
      "text/plain": [
       "[]"
      ]
     },
     "execution_count": 11,
     "metadata": {},
     "output_type": "execute_result"
    }
   ],
   "source": [
    "# içeriği temizeleme\n",
    "liste2 = [\"elma\",1,2.0,True]\n",
    "liste2.clear()\n",
    "liste2"
   ]
  },
  {
   "cell_type": "code",
   "execution_count": 12,
   "metadata": {},
   "outputs": [
    {
     "data": {
      "text/plain": [
       "[1, 2, 3, 4]"
      ]
     },
     "execution_count": 12,
     "metadata": {},
     "output_type": "execute_result"
    }
   ],
   "source": [
    "# ekleme\n",
    "liste = [1,2,3]\n",
    "liste.append(4)\n",
    "liste"
   ]
  },
  {
   "cell_type": "code",
   "execution_count": 13,
   "metadata": {},
   "outputs": [
    {
     "data": {
      "text/plain": [
       "[5, 4, 3, 2, 1]"
      ]
     },
     "execution_count": 13,
     "metadata": {},
     "output_type": "execute_result"
    }
   ],
   "source": [
    "# sıralama\n",
    "liste = [5,1,3,2,4]\n",
    "liste.sort(reverse=True)\n",
    "liste"
   ]
  },
  {
   "cell_type": "markdown",
   "metadata": {},
   "source": [
    ">Listeleri kesme"
   ]
  },
  {
   "cell_type": "code",
   "execution_count": 14,
   "metadata": {},
   "outputs": [
    {
     "data": {
      "text/plain": [
       "list"
      ]
     },
     "execution_count": 14,
     "metadata": {},
     "output_type": "execute_result"
    }
   ],
   "source": [
    "# kesme\n",
    "a = [0,1,2,3,4,5,6,7,8,9]\n",
    "type(a)"
   ]
  },
  {
   "cell_type": "code",
   "execution_count": 15,
   "metadata": {},
   "outputs": [
    {
     "data": {
      "text/plain": [
       "1"
      ]
     },
     "execution_count": 15,
     "metadata": {},
     "output_type": "execute_result"
    }
   ],
   "source": [
    "# tek bir elemana erisim\n",
    "a[1]"
   ]
  },
  {
   "cell_type": "code",
   "execution_count": 16,
   "metadata": {},
   "outputs": [
    {
     "data": {
      "text/plain": [
       "[1, 2]"
      ]
     },
     "execution_count": 16,
     "metadata": {},
     "output_type": "execute_result"
    }
   ],
   "source": [
    "# ilk indeks dahil son indeks dahil degildir\n",
    "a[1:3]"
   ]
  },
  {
   "cell_type": "code",
   "execution_count": 17,
   "metadata": {},
   "outputs": [
    {
     "data": {
      "text/plain": [
       "[3, 4, 5, 6, 7, 8, 9]"
      ]
     },
     "execution_count": 17,
     "metadata": {},
     "output_type": "execute_result"
    }
   ],
   "source": [
    "a[3:]"
   ]
  },
  {
   "cell_type": "code",
   "execution_count": 18,
   "metadata": {},
   "outputs": [
    {
     "data": {
      "text/plain": [
       "[0, 1, 2]"
      ]
     },
     "execution_count": 18,
     "metadata": {},
     "output_type": "execute_result"
    }
   ],
   "source": [
    "# basindan itibaren belirli bir indekse kadar\n",
    "a[:3]"
   ]
  },
  {
   "cell_type": "code",
   "execution_count": 19,
   "metadata": {},
   "outputs": [
    {
     "data": {
      "text/plain": [
       "[0, 1, 2, 3, 4, 5, 6, 7, 8, 9]"
      ]
     },
     "execution_count": 19,
     "metadata": {},
     "output_type": "execute_result"
    }
   ],
   "source": [
    "# tüm elemanları alma\n",
    "a[:]"
   ]
  },
  {
   "cell_type": "code",
   "execution_count": 20,
   "metadata": {},
   "outputs": [
    {
     "data": {
      "text/plain": [
       "[0, 2, 4, 6, 8]"
      ]
     },
     "execution_count": 20,
     "metadata": {},
     "output_type": "execute_result"
    }
   ],
   "source": [
    "# a[başlangıç:son:artış]\n",
    "a[0:10:2]"
   ]
  },
  {
   "cell_type": "code",
   "execution_count": 21,
   "metadata": {},
   "outputs": [
    {
     "data": {
      "text/plain": [
       "8"
      ]
     },
     "execution_count": 21,
     "metadata": {},
     "output_type": "execute_result"
    }
   ],
   "source": [
    "# sondan ikinci elemana erisim\n",
    "a[-2]"
   ]
  },
  {
   "cell_type": "code",
   "execution_count": 22,
   "metadata": {},
   "outputs": [
    {
     "data": {
      "text/plain": [
       "[1, 2, 3, 4]"
      ]
     },
     "execution_count": 22,
     "metadata": {},
     "output_type": "execute_result"
    }
   ],
   "source": [
    "# - notasyonu liste kesme icinde de kullanilir\n",
    "a[1:-5]"
   ]
  },
  {
   "cell_type": "code",
   "execution_count": 23,
   "metadata": {},
   "outputs": [
    {
     "data": {
      "text/plain": [
       "[9, 8, 7, 6, 5, 4, 3, 2, 1, 0]"
      ]
     },
     "execution_count": 23,
     "metadata": {},
     "output_type": "execute_result"
    }
   ],
   "source": [
    "# bir listeyi tersine cevirme\n",
    "a[::-1]"
   ]
  },
  {
   "cell_type": "markdown",
   "metadata": {},
   "source": [
    "## tuples"
   ]
  },
  {
   "cell_type": "markdown",
   "metadata": {},
   "source": [
    "Değiştirilemez ve sıralıdır\n"
   ]
  },
  {
   "cell_type": "code",
   "execution_count": 24,
   "metadata": {},
   "outputs": [
    {
     "data": {
      "text/plain": [
       "(1, 'bir', True, 42.0)"
      ]
     },
     "execution_count": 24,
     "metadata": {},
     "output_type": "execute_result"
    }
   ],
   "source": [
    "# tuple olusturma\n",
    "deneme = (1,\"bir\",True,42.0)\n",
    "deneme"
   ]
  },
  {
   "cell_type": "code",
   "execution_count": 25,
   "metadata": {},
   "outputs": [
    {
     "data": {
      "text/plain": [
       "(1, 'bir')"
      ]
     },
     "execution_count": 25,
     "metadata": {},
     "output_type": "execute_result"
    }
   ],
   "source": [
    "# elemanlarina erisim\n",
    "deneme[0:2]"
   ]
  },
  {
   "cell_type": "code",
   "execution_count": 26,
   "metadata": {},
   "outputs": [],
   "source": [
    "# degistirmeye kalkarsak hata verir\n",
    "# deneme[0] = 2"
   ]
  },
  {
   "cell_type": "code",
   "execution_count": 27,
   "metadata": {},
   "outputs": [],
   "source": [
    "# del ile silmek mumkun\n",
    "# del deneme\n",
    "# deneme"
   ]
  },
  {
   "cell_type": "code",
   "execution_count": 28,
   "metadata": {},
   "outputs": [
    {
     "data": {
      "text/plain": [
       "4"
      ]
     },
     "execution_count": 28,
     "metadata": {},
     "output_type": "execute_result"
    }
   ],
   "source": [
    "# uzunluk bulma\n",
    "deneme = (1,\"bir\",True,42.0)\n",
    "len(deneme)"
   ]
  },
  {
   "cell_type": "code",
   "execution_count": 29,
   "metadata": {},
   "outputs": [
    {
     "data": {
      "text/plain": [
       "(1, 2, 3)"
      ]
     },
     "execution_count": 29,
     "metadata": {},
     "output_type": "execute_result"
    }
   ],
   "source": [
    "# listeden tuple yaratma\n",
    "deneme = tuple([1,2,3])\n",
    "deneme"
   ]
  },
  {
   "cell_type": "code",
   "execution_count": 30,
   "metadata": {},
   "outputs": [
    {
     "data": {
      "text/plain": [
       "0"
      ]
     },
     "execution_count": 30,
     "metadata": {},
     "output_type": "execute_result"
    }
   ],
   "source": [
    "# eleman sayısını bulma\n",
    "a = (1,1,1,2,3,3)\n",
    "a.count(4)"
   ]
  },
  {
   "cell_type": "code",
   "execution_count": 31,
   "metadata": {},
   "outputs": [
    {
     "data": {
      "text/plain": [
       "0"
      ]
     },
     "execution_count": 31,
     "metadata": {},
     "output_type": "execute_result"
    }
   ],
   "source": [
    "# indeks numarasını bulma\n",
    "b = (1,2,1,3,2)\n",
    "a.index(1)"
   ]
  },
  {
   "cell_type": "markdown",
   "metadata": {},
   "source": [
    "## set (küme)"
   ]
  },
  {
   "cell_type": "markdown",
   "metadata": {},
   "source": [
    "Değişkendir. Sıralı değildir, indekslenmemiştir. (unordered & unindexed)"
   ]
  },
  {
   "cell_type": "code",
   "execution_count": 34,
   "metadata": {},
   "outputs": [
    {
     "data": {
      "text/plain": [
       "{1, 2, 3, 4, 5, 'armut', 'elma'}"
      ]
     },
     "execution_count": 34,
     "metadata": {},
     "output_type": "execute_result"
    }
   ],
   "source": [
    "# set olusturma\n",
    "kume = {1,2,3,\"elma\",\"armut\",4,5,4}\n",
    "kume"
   ]
  },
  {
   "cell_type": "code",
   "execution_count": 35,
   "metadata": {},
   "outputs": [],
   "source": [
    "# indeksli ve sirali olmadigi icin hata verir\n",
    "# kume[0]"
   ]
  },
  {
   "cell_type": "code",
   "execution_count": 36,
   "metadata": {},
   "outputs": [
    {
     "data": {
      "text/plain": [
       "True"
      ]
     },
     "execution_count": 36,
     "metadata": {},
     "output_type": "execute_result"
    }
   ],
   "source": [
    "# eleman var mı?\n",
    "\"elma\" in kume"
   ]
  },
  {
   "cell_type": "code",
   "execution_count": 37,
   "metadata": {},
   "outputs": [
    {
     "data": {
      "text/plain": [
       "{1, 2, 3, 4, 42, 5, 'armut', 'elma'}"
      ]
     },
     "execution_count": 37,
     "metadata": {},
     "output_type": "execute_result"
    }
   ],
   "source": [
    "# eleman nasil ekleriz\n",
    "kume.add(42)\n",
    "kume"
   ]
  },
  {
   "cell_type": "code",
   "execution_count": 38,
   "metadata": {},
   "outputs": [
    {
     "data": {
      "text/plain": [
       "{1, 1.1, 2, 2.2, 3, 4, 42, 5, 'armut', 'elma'}"
      ]
     },
     "execution_count": 38,
     "metadata": {},
     "output_type": "execute_result"
    }
   ],
   "source": [
    "# liste nasil ekleriz\n",
    "kume.update([1.1,2.2])\n",
    "kume"
   ]
  },
  {
   "cell_type": "code",
   "execution_count": 39,
   "metadata": {},
   "outputs": [
    {
     "data": {
      "text/plain": [
       "10"
      ]
     },
     "execution_count": 39,
     "metadata": {},
     "output_type": "execute_result"
    }
   ],
   "source": [
    "# uzunluk bulma\n",
    "len(kume)"
   ]
  },
  {
   "cell_type": "code",
   "execution_count": 40,
   "metadata": {},
   "outputs": [
    {
     "data": {
      "text/plain": [
       "{1, 2, 2.2, 3, 4, 42, 5, 'armut', 'elma'}"
      ]
     },
     "execution_count": 40,
     "metadata": {},
     "output_type": "execute_result"
    }
   ],
   "source": [
    "# remove()\n",
    "# siler - eleman yoksa hata verir\n",
    "kume.remove(1.1)\n",
    "kume"
   ]
  },
  {
   "cell_type": "code",
   "execution_count": 42,
   "metadata": {},
   "outputs": [
    {
     "data": {
      "text/plain": [
       "{1, 2, 3, 4, 42, 5, 'armut', 'elma'}"
      ]
     },
     "execution_count": 42,
     "metadata": {},
     "output_type": "execute_result"
    }
   ],
   "source": [
    "# discard()\n",
    "# siler - eleman yoksa hata verMEZ\n",
    "kume.discard(2.2)\n",
    "kume"
   ]
  },
  {
   "cell_type": "code",
   "execution_count": 43,
   "metadata": {},
   "outputs": [
    {
     "data": {
      "text/plain": [
       "set()"
      ]
     },
     "execution_count": 43,
     "metadata": {},
     "output_type": "execute_result"
    }
   ],
   "source": [
    "# set'in icini temizleme\n",
    "kume.clear()\n",
    "kume"
   ]
  },
  {
   "cell_type": "code",
   "execution_count": 44,
   "metadata": {},
   "outputs": [],
   "source": [
    "# seti tumden silme\n",
    "# kume = {1,2,3,\"elma\",\"armut\",4,5}\n",
    "# kume\n",
    "# del kume\n",
    "# kume"
   ]
  },
  {
   "cell_type": "code",
   "execution_count": 45,
   "metadata": {},
   "outputs": [
    {
     "name": "stdout",
     "output_type": "stream",
     "text": [
      "   Birleşim\n",
      "{1, 2, 3, 4, 5, 6, 7, 8}\n",
      "  Kesişim\n",
      "{4, 5}\n",
      "  Fark\n",
      "{1, 2, 3}\n",
      "{8, 6, 7}\n",
      " Simetrik\n",
      "{1, 2, 3, 6, 7, 8}\n"
     ]
    }
   ],
   "source": [
    "# Kume teorisi ile birlikte kullanim \n",
    "a = {1,2,3,4,5}\n",
    "b = {4,5,6,7,8}\n",
    "\n",
    "print(\"   Birleşim\")\n",
    "#a.union(b)\n",
    "print(a | b) \n",
    "\n",
    "print(\"  Kesişim\")\n",
    "#print(a.intersection(b))\n",
    "print(a & b)\n",
    "\n",
    "print(\"  Fark\")\n",
    "#print(a.difference(b))\n",
    "print(a-b)\n",
    "print(b-a)\n",
    "\n",
    "print(\" Simetrik\")\n",
    "#a.symmetric_difference(b)\n",
    "print(a ^ b)"
   ]
  },
  {
   "cell_type": "markdown",
   "metadata": {},
   "source": [
    "## dictionaries"
   ]
  },
  {
   "cell_type": "markdown",
   "metadata": {},
   "source": [
    "Sırasız, indeksli ve değiştirilebilir bir yapıya sahiptir."
   ]
  },
  {
   "cell_type": "markdown",
   "metadata": {},
   "source": [
    "* anahtar - değer ikililerinden oluşur (key-value)"
   ]
  },
  {
   "cell_type": "code",
   "execution_count": 46,
   "metadata": {},
   "outputs": [
    {
     "data": {
      "text/plain": [
       "{'isim': 'Hasan', 'soyisim': 'Flor', 'yas': 42}"
      ]
     },
     "execution_count": 46,
     "metadata": {},
     "output_type": "execute_result"
    }
   ],
   "source": [
    "# dict yaratimi\n",
    "kisi = {\n",
    "    \"isim\":\"Hasan\",\n",
    "    \"soyisim\":\"Flor\",\n",
    "    \"yas\":42\n",
    "}\n",
    "kisi"
   ]
  },
  {
   "cell_type": "code",
   "execution_count": 47,
   "metadata": {},
   "outputs": [
    {
     "data": {
      "text/plain": [
       "'Flor'"
      ]
     },
     "execution_count": 47,
     "metadata": {},
     "output_type": "execute_result"
    }
   ],
   "source": [
    "# indeks kullanarak degeri cagirma\n",
    "kisi[\"soyisim\"]"
   ]
  },
  {
   "cell_type": "code",
   "execution_count": 48,
   "metadata": {},
   "outputs": [
    {
     "data": {
      "text/plain": [
       "{'liste': [1, 2, 3, 4],\n",
       " 'metin': 'metin yazdım',\n",
       " 'dict_in_dict': {'a': [1, 2], 'b': [3, 4]},\n",
       " 'en_favori_muzik_gruplarim': ['Pink Floyd', 'Queen'],\n",
       " 'en_sevdigim_sarkilar': ['Time', 'Bohemian Rhapsody']}"
      ]
     },
     "execution_count": 48,
     "metadata": {},
     "output_type": "execute_result"
    }
   ],
   "source": [
    "# deger (value) yerine liste ve dict de yazılabilir\n",
    "dict_a = {\n",
    "    \"liste\":[1,2,3,4],\n",
    "    \"metin\":\"metin yazdım\",\n",
    "    \"dict_in_dict\":{\"a\":[1,2],\"b\":[3,4]},\n",
    "    \"en_favori_muzik_gruplarim\":[\"Pink Floyd\",\"Queen\"],\n",
    "    \"en_sevdigim_sarkilar\":[\"Time\",\"Bohemian Rhapsody\"]\n",
    "}\n",
    "dict_a"
   ]
  },
  {
   "cell_type": "code",
   "execution_count": 49,
   "metadata": {},
   "outputs": [
    {
     "data": {
      "text/plain": [
       "2"
      ]
     },
     "execution_count": 49,
     "metadata": {},
     "output_type": "execute_result"
    }
   ],
   "source": [
    "# ic ice yapilari cagirmak icin sırali indeksleme kullanilir\n",
    "dict_a[\"dict_in_dict\"][\"a\"][-1]"
   ]
  },
  {
   "cell_type": "code",
   "execution_count": 50,
   "metadata": {},
   "outputs": [
    {
     "data": {
      "text/plain": [
       "['Time', 'Bohemian Rhapsody']"
      ]
     },
     "execution_count": 50,
     "metadata": {},
     "output_type": "execute_result"
    }
   ],
   "source": [
    "# Cikti liste olacaktir\n",
    "dict_a.get(\"en_sevdigim_sarkilar\")"
   ]
  },
  {
   "cell_type": "code",
   "execution_count": 51,
   "metadata": {},
   "outputs": [
    {
     "name": "stdout",
     "output_type": "stream",
     "text": [
      "{'meyve': 'elma', 'bir': 10}\n",
      "{'meyve': 'elma', 'bir': 1}\n"
     ]
    }
   ],
   "source": [
    "# Dict icindeki degeri degistirme\n",
    "b = {\"meyve\":\"elma\",\"bir\":10}\n",
    "print(b)\n",
    "b[\"bir\"] = 1\n",
    "print(b)"
   ]
  },
  {
   "cell_type": "code",
   "execution_count": 52,
   "metadata": {},
   "outputs": [
    {
     "name": "stdout",
     "output_type": "stream",
     "text": [
      "{'elma': 1, 'armut': 2, 'muz': 3}\n",
      "{'elma': 1, 'armut': 2, 'muz': 3, 'portakal': 5}\n"
     ]
    }
   ],
   "source": [
    "# anahtar deger ikilisi ekleme\n",
    "a = {\"elma\":1,\"armut\":2,\"muz\":3}\n",
    "print(a)\n",
    "a[\"portakal\"] = 5\n",
    "print(a)"
   ]
  },
  {
   "cell_type": "code",
   "execution_count": 53,
   "metadata": {},
   "outputs": [
    {
     "data": {
      "text/plain": [
       "{'isim': 'Behzat', 'soyisim': 'Ç.'}"
      ]
     },
     "execution_count": 53,
     "metadata": {},
     "output_type": "execute_result"
    }
   ],
   "source": [
    "# artırımsal\n",
    "kisi = {}\n",
    "kisi[\"isim\"] = \"Behzat\"\n",
    "kisi[\"soyisim\"] = \"Ç.\"\n",
    "kisi"
   ]
  },
  {
   "cell_type": "code",
   "execution_count": 57,
   "metadata": {},
   "outputs": [
    {
     "name": "stdout",
     "output_type": "stream",
     "text": [
      "{1: 1, 2: 2}\n"
     ]
    },
    {
     "data": {
      "text/plain": [
       "1"
      ]
     },
     "execution_count": 57,
     "metadata": {},
     "output_type": "execute_result"
    }
   ],
   "source": [
    "# indeks degeri olarak int eklenebilir\n",
    "deneme = {1:1,2:2}\n",
    "print(deneme)\n",
    "deneme[1]\n",
    "#type(deneme)"
   ]
  },
  {
   "cell_type": "code",
   "execution_count": 58,
   "metadata": {},
   "outputs": [
    {
     "name": "stdout",
     "output_type": "stream",
     "text": [
      "{1: 1, 2: 2, 2.1: 2.1}\n"
     ]
    }
   ],
   "source": [
    "# float eklenebilir\n",
    "deneme[2.1] = 2.1\n",
    "print(deneme)"
   ]
  },
  {
   "cell_type": "markdown",
   "metadata": {},
   "source": [
    "NOT: **key** degeri olarak sinif tipleri bile eklenebilir. Henuz siniflari bilmediginiz varsaydigimdan ayrintiya girmedin"
   ]
  },
  {
   "cell_type": "code",
   "execution_count": 59,
   "metadata": {},
   "outputs": [
    {
     "name": "stdout",
     "output_type": "stream",
     "text": [
      "{1: 1, 2: 2, 2.1: 2.1, (1, 1): 1}\n"
     ]
    }
   ],
   "source": [
    "# tuple key olarak kullanilabilir\n",
    "deneme[(1,1)] = 1\n",
    "print(deneme)"
   ]
  },
  {
   "cell_type": "code",
   "execution_count": 60,
   "metadata": {},
   "outputs": [],
   "source": [
    "# *** ileri seviye****\n",
    "# liste dict anahtarı girilmez\n",
    "# deneme[[1,1]] = 1"
   ]
  },
  {
   "cell_type": "code",
   "execution_count": 61,
   "metadata": {},
   "outputs": [
    {
     "data": {
      "text/plain": [
       "True"
      ]
     },
     "execution_count": 61,
     "metadata": {},
     "output_type": "execute_result"
    }
   ],
   "source": [
    "# key içinde var mı?\n",
    "a = {\"elma\":1,\"armut\":2,\"muz\":3}\n",
    "\"elma\" in a"
   ]
  },
  {
   "cell_type": "markdown",
   "metadata": {},
   "source": [
    ">Metotlar"
   ]
  },
  {
   "cell_type": "code",
   "execution_count": 62,
   "metadata": {},
   "outputs": [
    {
     "data": {
      "text/plain": [
       "True"
      ]
     },
     "execution_count": 62,
     "metadata": {},
     "output_type": "execute_result"
    }
   ],
   "source": [
    "# keys\n",
    "\"elma\" in list(a.keys())"
   ]
  },
  {
   "cell_type": "code",
   "execution_count": 63,
   "metadata": {},
   "outputs": [
    {
     "data": {
      "text/plain": [
       "True"
      ]
     },
     "execution_count": 63,
     "metadata": {},
     "output_type": "execute_result"
    }
   ],
   "source": [
    "# values\n",
    "1 in list(a.values())"
   ]
  },
  {
   "cell_type": "code",
   "execution_count": 64,
   "metadata": {},
   "outputs": [
    {
     "data": {
      "text/plain": [
       "3"
      ]
     },
     "execution_count": 64,
     "metadata": {},
     "output_type": "execute_result"
    }
   ],
   "source": [
    "# len()\n",
    "len(a)"
   ]
  },
  {
   "cell_type": "code",
   "execution_count": 65,
   "metadata": {},
   "outputs": [
    {
     "name": "stdout",
     "output_type": "stream",
     "text": [
      "{'armut': 2, 'muz': 3}\n"
     ]
    }
   ],
   "source": [
    "# eleman silme\n",
    "a = {\"elma\":1,\"armut\":2,\"muz\":3}\n",
    "del a[\"elma\"]\n",
    "print(a)"
   ]
  },
  {
   "cell_type": "code",
   "execution_count": 66,
   "metadata": {},
   "outputs": [
    {
     "name": "stdout",
     "output_type": "stream",
     "text": [
      "{}\n"
     ]
    }
   ],
   "source": [
    "# dict icini temizleme ve dict silme\n",
    "a.clear()\n",
    "print(a)\n",
    "# del a\n",
    "# print(a)"
   ]
  },
  {
   "cell_type": "code",
   "execution_count": 67,
   "metadata": {},
   "outputs": [
    {
     "name": "stdout",
     "output_type": "stream",
     "text": [
      "{'elma': 1, 'muz': 3}\n",
      "2\n"
     ]
    }
   ],
   "source": [
    "# pop fonksiyonu\n",
    "a = {\"elma\":1,\"armut\":2,\"muz\":3}\n",
    "ahmet = a.pop(\"armut\")\n",
    "print(a)\n",
    "print(ahmet)"
   ]
  },
  {
   "cell_type": "code",
   "execution_count": 68,
   "metadata": {},
   "outputs": [
    {
     "name": "stdout",
     "output_type": "stream",
     "text": [
      "{'elma': 111, 'armut': 2, 'muz': 3, 'portakal': 5, 'kivi': 2}\n"
     ]
    }
   ],
   "source": [
    "# güncelleme yapma\n",
    "a = {\"elma\":1,\"armut\":2,\"muz\":3}\n",
    "b = {\"portakal\":5, \"kivi\":2,\"elma\":111}\n",
    "a.update(b)\n",
    "print(a)"
   ]
  },
  {
   "cell_type": "markdown",
   "metadata": {},
   "source": [
    "## Veri tiplerini birbirine çevirme"
   ]
  },
  {
   "cell_type": "markdown",
   "metadata": {},
   "source": [
    "int(), float(), str() vb.. kullanarak temel veri tiplerini birbirine çevirmeniz mümkün"
   ]
  },
  {
   "cell_type": "code",
   "execution_count": 69,
   "metadata": {},
   "outputs": [
    {
     "name": "stdout",
     "output_type": "stream",
     "text": [
      "<class 'int'>\n",
      "<class 'float'>\n"
     ]
    }
   ],
   "source": [
    "a = 1\n",
    "print(type(a))\n",
    "a = float(a)\n",
    "print(type(a))"
   ]
  },
  {
   "cell_type": "code",
   "execution_count": 70,
   "metadata": {},
   "outputs": [
    {
     "data": {
      "text/plain": [
       "'11235813'"
      ]
     },
     "execution_count": 70,
     "metadata": {},
     "output_type": "execute_result"
    }
   ],
   "source": [
    "a = 11235813\n",
    "a = str(a)\n",
    "a"
   ]
  },
  {
   "cell_type": "code",
   "execution_count": 71,
   "metadata": {},
   "outputs": [
    {
     "data": {
      "text/plain": [
       "float"
      ]
     },
     "execution_count": 71,
     "metadata": {},
     "output_type": "execute_result"
    }
   ],
   "source": [
    "type(float('123'))"
   ]
  },
  {
   "cell_type": "code",
   "execution_count": 72,
   "metadata": {},
   "outputs": [
    {
     "data": {
      "text/plain": [
       "123000.0"
      ]
     },
     "execution_count": 72,
     "metadata": {},
     "output_type": "execute_result"
    }
   ],
   "source": [
    "float('123e3')"
   ]
  },
  {
   "cell_type": "markdown",
   "metadata": {},
   "source": [
    "list(), tuple(), set(), dict() kullanımı ve çevirimi"
   ]
  },
  {
   "cell_type": "code",
   "execution_count": 73,
   "metadata": {},
   "outputs": [
    {
     "name": "stdout",
     "output_type": "stream",
     "text": [
      "<class 'set'>\n"
     ]
    },
    {
     "data": {
      "text/plain": [
       "(1, 2, 3)"
      ]
     },
     "execution_count": 73,
     "metadata": {},
     "output_type": "execute_result"
    }
   ],
   "source": [
    "#listeden set\n",
    "a = set([1,2,3])\n",
    "print(type(a))\n",
    "tuple(a)"
   ]
  },
  {
   "cell_type": "code",
   "execution_count": 74,
   "metadata": {},
   "outputs": [
    {
     "name": "stdout",
     "output_type": "stream",
     "text": [
      "{'h', 'm', 'a', 'e', 'r', 'b'}\n",
      "['m', 'e', 'r', 'h', 'a', 'b', 'a']\n",
      "('m', 'e', 'r', 'h', 'a', 'b', 'a')\n"
     ]
    }
   ],
   "source": [
    "a = 'merhaba'\n",
    "print(set(a)) # *** ileri seviye python numarası *** \n",
    "print(list(a))\n",
    "print(tuple(a))"
   ]
  },
  {
   "cell_type": "code",
   "execution_count": 75,
   "metadata": {},
   "outputs": [
    {
     "data": {
      "text/plain": [
       "{'a': 1, 'b': 2}"
      ]
     },
     "execution_count": 75,
     "metadata": {},
     "output_type": "execute_result"
    }
   ],
   "source": [
    "# listeden dictionary\n",
    "dict((('a',1),('b',2)))"
   ]
  },
  {
   "cell_type": "markdown",
   "metadata": {},
   "source": [
    "## print fonksiyonunun kullanımı"
   ]
  },
  {
   "cell_type": "markdown",
   "metadata": {},
   "source": [
    "Çoğu zaman değişkenleri bir metin içinde yazdırmaya ihtiyacımız olacak. Bu amaçla temel olarak `print()` fonksiyonunu kullanmamız gerekir. "
   ]
  },
  {
   "cell_type": "code",
   "execution_count": 76,
   "metadata": {},
   "outputs": [
    {
     "name": "stdout",
     "output_type": "stream",
     "text": [
      "Tüm soruların cevabı : 42\n"
     ]
    }
   ],
   "source": [
    "sayi = 42\n",
    "print(\"Tüm soruların cevabı : \" + str(sayi))"
   ]
  },
  {
   "cell_type": "code",
   "execution_count": 77,
   "metadata": {},
   "outputs": [
    {
     "name": "stdout",
     "output_type": "stream",
     "text": [
      "Benim adım Ahmet senin adın Mehmet\n"
     ]
    }
   ],
   "source": [
    "# %s kullanımı\n",
    "print(\"Benim adım %s senin adın %s\" % (\"Ahmet\",\"Mehmet\"))"
   ]
  },
  {
   "cell_type": "code",
   "execution_count": 78,
   "metadata": {},
   "outputs": [
    {
     "name": "stdout",
     "output_type": "stream",
     "text": [
      "Bu sayı 3.14\n"
     ]
    }
   ],
   "source": [
    "print(\"Bu sayı %s\" % (3.14))"
   ]
  },
  {
   "cell_type": "code",
   "execution_count": 79,
   "metadata": {},
   "outputs": [
    {
     "name": "stdout",
     "output_type": "stream",
     "text": [
      "Bu sayı 3.142\n"
     ]
    }
   ],
   "source": [
    "# %f\n",
    "print(\"Bu sayı %.3f\" % (3.14159265))"
   ]
  },
  {
   "cell_type": "markdown",
   "metadata": {},
   "source": [
    ">format kullanımı"
   ]
  },
  {
   "cell_type": "code",
   "execution_count": 80,
   "metadata": {},
   "outputs": [
    {
     "name": "stdout",
     "output_type": "stream",
     "text": [
      "bir ve iki\n"
     ]
    }
   ],
   "source": [
    "print(\"{a} ve {b}\".format(a=\"bir\",b=\"iki\"))"
   ]
  },
  {
   "cell_type": "code",
   "execution_count": 81,
   "metadata": {},
   "outputs": [
    {
     "name": "stdout",
     "output_type": "stream",
     "text": [
      "pi sayisi 3.142\n"
     ]
    }
   ],
   "source": [
    "print(\"pi sayisi {:.3f}\".format(3.14159265))"
   ]
  },
  {
   "cell_type": "markdown",
   "metadata": {},
   "source": [
    ">veri yapısı yazdırma"
   ]
  },
  {
   "cell_type": "code",
   "execution_count": 82,
   "metadata": {},
   "outputs": [
    {
     "name": "stdout",
     "output_type": "stream",
     "text": [
      "liste [1, 2, 3]\n"
     ]
    }
   ],
   "source": [
    "liste = [1,2,3]\n",
    "print('liste ' + str(liste))"
   ]
  },
  {
   "cell_type": "code",
   "execution_count": 83,
   "metadata": {},
   "outputs": [
    {
     "name": "stdout",
     "output_type": "stream",
     "text": [
      "liste (1, 2, 3)\n"
     ]
    }
   ],
   "source": [
    "liste = (1,2,3)\n",
    "print('liste ' + str(liste))"
   ]
  },
  {
   "cell_type": "code",
   "execution_count": 84,
   "metadata": {},
   "outputs": [
    {
     "name": "stdout",
     "output_type": "stream",
     "text": [
      "liste {'a': 1, 'b': 1}\n"
     ]
    }
   ],
   "source": [
    "dict_a = {'a':1,'b':1}\n",
    "print(\"liste \" + str(dict_a))"
   ]
  },
  {
   "cell_type": "code",
   "execution_count": 85,
   "metadata": {},
   "outputs": [
    {
     "name": "stdout",
     "output_type": "stream",
     "text": [
      "tuple (1, 2, 3), dict {'a': 1, 'b': 1}\n"
     ]
    }
   ],
   "source": [
    "print(\"tuple {a}, dict {b}\".format(a=liste,b=dict_a))"
   ]
  },
  {
   "cell_type": "markdown",
   "metadata": {},
   "source": [
    "---------------------"
   ]
  },
  {
   "cell_type": "markdown",
   "metadata": {},
   "source": [
    "---------------------"
   ]
  },
  {
   "cell_type": "markdown",
   "metadata": {},
   "source": [
    "---------------------"
   ]
  },
  {
   "cell_type": "markdown",
   "metadata": {},
   "source": [
    "---------------------"
   ]
  },
  {
   "cell_type": "markdown",
   "metadata": {},
   "source": [
    "---------------------"
   ]
  },
  {
   "cell_type": "markdown",
   "metadata": {},
   "source": [
    "---------------------"
   ]
  },
  {
   "cell_type": "markdown",
   "metadata": {},
   "source": [
    "---------------------"
   ]
  },
  {
   "cell_type": "markdown",
   "metadata": {},
   "source": [
    "---------------------"
   ]
  },
  {
   "cell_type": "markdown",
   "metadata": {},
   "source": [
    "---------------------"
   ]
  }
 ],
 "metadata": {
  "kernelspec": {
   "display_name": "Python 3",
   "language": "python",
   "name": "python3"
  },
  "language_info": {
   "codemirror_mode": {
    "name": "ipython",
    "version": 3
   },
   "file_extension": ".py",
   "mimetype": "text/x-python",
   "name": "python",
   "nbconvert_exporter": "python",
   "pygments_lexer": "ipython3",
   "version": "3.7.1"
  }
 },
 "nbformat": 4,
 "nbformat_minor": 2
}
